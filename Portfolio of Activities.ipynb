{
 "cells": [
  {
   "cell_type": "markdown",
   "id": "98b9901b-1b80-472d-b98d-f84044aa8842",
   "metadata": {},
   "source": [
    "ACTIVITIES 4.2: List\n",
    "\n",
    "1.1. Lists in Python:\n",
    "    \n",
    "It is one of the four built-in collection data types in the Python programming language. It is the first storage method which is \"Ordered\" and \"Changeable\". It is a sequence of items stored in a single object (Scott, 2022). \n",
    "        \n",
    "List allows storing of elements or strings in an order having positions starting from 0. Other collection of data \n",
    "objects are Tuple, Set and Dictionary. Each of these collection data types have different charactersitics, \n",
    "qualities and usage. Lists are used to store multiple items in a variable, and they are different from an Array in that, while the latter can contain objects of a single type, the former can contain a mixture of objects. (W3 Schools, 2022). \n",
    "        \n",
    "Lists are separated with a comma , and wrapped in a square bracket []\n",
    "        \n",
    "1.2. Characteristcis of Lists\n",
    "         \n",
    "(a). Ordered: items are arranged in a sequence i.e Items have defined position which cannot change. When a new item is added to the list, it takes the last position.\n",
    "                       \n",
    "(b) Changeable: They can be updated (in other words, it is mutable or alterable. It can be added to or remove from after it has been created);\n",
    "                        \n",
    "(c) Allow duplicate values: Because items in a list are indexed, it can accommodate same or different types of data with the same value repeated severally.\n",
    "                         \n",
    "(d) Indexed – first item [0], second [1], etc\n",
    "         \n",
    "(e) Lists are dynamic and can have different types\n",
    "         \n",
    "(f) Looping: A list can be iterated by usinf for - in loop\n",
    "         \n",
    "(g) It can accommodate different data types: e. g Strings, Integers and boolean values.\n",
    "         \n",
    "(h) Lists can be nested to arbitrary depth\n",
    "         \n",
    "\n",
    "1.3. Different Types of Lists: Lists can be created from several types of collections\n",
    "         \n",
    "(a) Create lists from string, tuple, and lists\n",
    "(b) Create lists from set and dictionary\n",
    "(c) Create a list from an iterator object\n",
    "         \n",
    "     \n",
    "1.4. Operations in Lists: There are different operations that can be performed in list by using different functions which are: \n",
    "\n",
    "(a) Creating a list: a list is created by specifying a variable and listing element in square bracket []\n",
    "(b) append()\n",
    "(c) extend() \n",
    "(d) insert()\n",
    "(e) remove()\n",
    "(f) pop()\n",
    "(g) slice or range()\n",
    "(h) reverse()\n",
    "(i) min() \n",
    "(j) max()\n",
    "(k) concatenate()\n",
    "(l) count()\n",
    "(m) multiply()\n",
    "(n) sort()\n",
    "(o) index()\n",
    "(p) clear()\n",
    "(q) len()\n",
    "(r) type()\n",
    "         \n",
    "\n",
    "Variable: A variable is like a tag or container that is used to hold a series of character\n",
    "\n",
    "a. Why do we need them in python:Variables are needed in python because:\n",
    "\n",
    "(i) Python variable allows programmers to store elements of different data types.\n",
    "(ii) They hold references to objects\n",
    "(iii) variables need not be declared or defined in advance, as is the case in many other programming languages. To create a variable, just assign it a value and then start using it. Real Python (https://realpython.com/python-variables/)\n",
    "\n",
    "1.5 Use Cases: Below are some of the examples use cases for variables:"
   ]
  },
  {
   "cell_type": "code",
   "execution_count": 24,
   "id": "cc245626-fbf2-426c-8848-ee5aa4609c9d",
   "metadata": {},
   "outputs": [
    {
     "name": "stdout",
     "output_type": "stream",
     "text": [
      "300\n",
      "790 790 790\n",
      "250\n",
      "The variable 'var' that was previously assigned to the integer 250 is now a string\n",
      "My name is Phill Eagle, I am 56years old. I hate dishonesty.\n"
     ]
    }
   ],
   "source": [
    "#Assigning variable to an integer\n",
    "\n",
    "n = 300\n",
    "print(n)\n",
    "\n",
    "#Python also allows chained assignment, which makes it possible to assign the same value to several \n",
    "#variables simultaneously:\n",
    "\n",
    "x=y=z=790\n",
    "print(x,y,z)\n",
    "\n",
    "#Variable can be reassigned: Variable can be reassigned from an intger to a string\n",
    "\n",
    "var = 250\n",
    "print(var)\n",
    "\n",
    "#Now reassigning the sames variable to a string\n",
    "\n",
    "var = (\"The variable 'var' that was previously assigned to the integer \"+ str(var)+ \" is now a string\")\n",
    "print(var)\n",
    "\n",
    "#Another variable use case\n",
    "\n",
    "name = \"Phill Eagle\"\n",
    "age = 56\n",
    "dislikes = \"dishonesty\"\n",
    "print(\"My name is \" + name + \", I am \"+str(age)+\"years old. I hate \"+(dislikes)+\".\")"
   ]
  },
  {
   "cell_type": "markdown",
   "id": "9aaf4b69-68db-4a5d-bbf9-d0bbdc2b3df6",
   "metadata": {},
   "source": [
    "Create a list\n",
    "\n",
    "a. What is a list: The list is a serial data sturcture in python. It can contain a group of characters which can be of different data types.\n",
    "\n",
    "For exmple we can have a list of food items held in a variable named 'products', we can have a list of 'clothes type' held in a variable tagged \"clothes_types'.\n",
    "\n",
    "b. Example of a list in a variable\n",
    "\n",
    "In the example below, a variable named \"products\" was created which icncludes items of products names. This variable was used to store a list containing food items. \n",
    "\n",
    "products = [\"flour\",\"apple\",\"punnet of raspberries\",\"bread\", \"apple\"] decimal_number = [2.3, 4.4, 5.3.2.1, 8.0,.5.6,7.8]\n",
    "\n",
    "c. Why do we need a list? List in python are useful for:\n",
    "\n",
    "(i) Storing a group of related items: Lists can be used to store a group of items that are related to each other. For example, the names of students in a class or the items in a shopping list.\n",
    "\n",
    "(ii) Performing operations on a group of items: Lists support various operations, such as appending new items, inserting items at a specific position, removing items, and sorting items. These operations van be used to manipulate the items in a list.\n",
    "\n",
    "(iii) Iterating over a group of items: Lists are iterable, which means that a for loop to can be used to iterate over the items in a list and perform a specific operation on each item.\n",
    "\n",
    "(iv) Storing data in a structured way: Lists allow storing data in a structured way, with each item in the list having a specific position (called an index). This can make it easier to access and manipulate specific items in the list. CS with VK 2022.\n",
    "\n",
    "d. Use Case: Some of the use-cases where we generally use lists are,\n",
    "\n",
    "List of active players in the game. List of items in the shopping cart. List of the running processes in the system. List of messages received by the server. etc."
   ]
  },
  {
   "cell_type": "markdown",
   "id": "527635c9-35ad-4a68-93af-7a2b0a154f41",
   "metadata": {},
   "source": [
    "TASK 1.\n",
    "\n",
    "In Class/Activity 4.2 Lists: \n",
    "\n",
    "This In-class activity aims at practically demonstrating how to create lists types stored in variables and carrying out the different operations associated with lists.\n",
    "\n",
    "These is demonstrated by carrying out Tasks 1 to 4 as discussed in the class.\n",
    "\n",
    "Task 5 is to make another system/example that combines lists, tuples, sets and dictionaries. It also includes using each of the methods mention above to carry out several operations in python. "
   ]
  },
  {
   "cell_type": "markdown",
   "id": "2e358f16-9f76-4d80-962b-3435c6b57c62",
   "metadata": {},
   "source": [
    "2.0 TASK 1A: \n",
    "\n",
    "a. Creating a list of Products\n",
    "\n",
    "Steps: \n",
    "\n",
    "(i.) A variable named products was created with the list of the names of items (which are of string data type and can be in either a single or double inverted comma) in a square [] bracket, separated by comma;\n",
    "(ii). Use the print() function to print out the list\n",
    "(iii). Use the len() to know the numbers of items in the list\n",
    "\n",
    "In addition to the above, the type method type() to know the data structure of the products variable"
   ]
  },
  {
   "cell_type": "code",
   "execution_count": 25,
   "id": "0ecc2db5-569e-4688-a515-ff41eb847e91",
   "metadata": {},
   "outputs": [
    {
     "name": "stdout",
     "output_type": "stream",
     "text": [
      "['flour', 'apple', 'punnet of raspberries', 'bread', 'apple']\n",
      "5\n",
      "<class 'list'>\n"
     ]
    }
   ],
   "source": [
    "products = [\"flour\",\"apple\",\"punnet of raspberries\",\"bread\", \"apple\"]\n",
    "print(products)\n",
    "print(len(products))\n",
    "print(type(products))"
   ]
  },
  {
   "cell_type": "markdown",
   "id": "69689568-b134-44bb-b4cb-b3e0d7fb2ad6",
   "metadata": {},
   "source": [
    "b.\n",
    "\n",
    "Task 1B: ADDING ELEMENTS OF DIFFERENT DATA TYPES IN A LIST\n",
    "\n",
    "This step is used to demonstrate the ability of list to contain values of different data types. The variable product_detail contain several items of different data types ranging from strings, integers and floats.\n",
    "\n",
    "a. The variable product-detail is storing the details of the product flour, the price, the aisle number where it \n",
    "    can be found within the supermarket, the storeroom where it can be found, and quantity in stock.\n",
    "    \n",
    "b. The index position or number for each of the products were specified\n",
    "\n",
    "c. The function 'str' was used to convert the price which is of data type integer to data type string.\n",
    "\n",
    "d. The corresponding statement was printed out."
   ]
  },
  {
   "cell_type": "code",
   "execution_count": 26,
   "id": "c155ccad-cd58-404b-9a5a-917b0db33ae1",
   "metadata": {
    "tags": []
   },
   "outputs": [
    {
     "name": "stdout",
     "output_type": "stream",
     "text": [
      "['flour', 3.59, 'aisle 1', 'storeroom aisle A', 34]\n",
      "item: flour costs: £3.59 can be found at aisle 1\n",
      "item: flour costs: £ 3.59  can be found at aisle 1\n",
      "item: flour costs: £3.59 can be found at storeroom aisle A there are 34 in stock\n"
     ]
    }
   ],
   "source": [
    "product_detail = [\"flour\", 3.59,\"aisle 1\",\"storeroom aisle A\", 34]\n",
    "print(product_detail)\n",
    "print(\"item: \"+product_detail[0]+\" costs: £\"+str(product_detail[1])+\" can be found at \"+product_detail[2])\n",
    "print(\"item: \"+product_detail[0]+\" costs: £\",product_detail[1],\" can be found at \"+product_detail[2])\n",
    "print(\"item: \"+product_detail[0]+\" costs: £\"+str(product_detail[1])+\" can be found at \"+product_detail[3]+\n",
    "      \" there are \"+ str(product_detail[4])+\" in stock\")"
   ]
  },
  {
   "cell_type": "markdown",
   "id": "1939d952-6f17-4026-814f-895bb8af02bb",
   "metadata": {},
   "source": [
    "c.\n",
    "\n",
    "TASK 1C: NEGATIVE INDEXING AND RANGE\n",
    "\n",
    "a. Negative Indexing: Python allows negative indexing for its sequences. The index of -1 refers to the last item, -2 to the second last item and so on. This step is used to demonstrate the ability of list allowing negative indexing i.e printing from the reverse order. This can be achieved by specificying the negative index position or number of each of the items/elements in the product variable. e.g counting from the last item, the items or elements 'bread' and 'punnet of raspberries' occupies the index number [-2] and [-3] respectively on the list of items in the product variable."
   ]
  },
  {
   "cell_type": "code",
   "execution_count": 27,
   "id": "6da2464f-5205-4797-9bc2-0b82282a7890",
   "metadata": {},
   "outputs": [
    {
     "name": "stdout",
     "output_type": "stream",
     "text": [
      "bread\n",
      "punnet of raspberries\n",
      "Based on negative indexing, the items bread and punnet of raspberries are elements in the product variable, they occupy second last and third last positions respectively.\n"
     ]
    }
   ],
   "source": [
    "products = [\"flour\",\"apple\",\"punnet of raspberries\",\"bread\", \"apple\"]\n",
    "print(products[-2])\n",
    "print(products[-3])\n",
    "negative_indexing = ((\"Based on negative indexing, the items \"+ products[-2] + \" and \" + products[-3] + \n",
    "                      \" are elements in the product variable, they occupy second last and third last positions respectively.\"))\n",
    "print(negative_indexing)"
   ]
  },
  {
   "cell_type": "markdown",
   "id": "7ec4bef8-5269-4a68-b718-6806b9da82f5",
   "metadata": {},
   "source": [
    "b. Range: This is called Slicing i.e accessing tuple element (s) using slicing. It's used to access an element or range of element in a tuple by using the slicing operator colon i.e :\n",
    "\n",
    "For example:\n",
    "\n",
    "(i) print(products[2:4) will return a list with 2 elements from index 2 to index 3 only\n",
    "(ii) print(products[:4) will return a list with 4 elements from index 0 to index 3 only\n",
    "(iii) print(products[2:) will return a list with 3 elements from index 2 to every other elements in the list."
   ]
  },
  {
   "cell_type": "code",
   "execution_count": 28,
   "id": "7a532917-d31b-412e-bd58-cce73179df58",
   "metadata": {},
   "outputs": [
    {
     "name": "stdout",
     "output_type": "stream",
     "text": [
      "['punnet of raspberries', 'bread']\n",
      "['flour', 'apple', 'punnet of raspberries', 'bread']\n",
      "['punnet of raspberries', 'bread', 'apple']\n"
     ]
    }
   ],
   "source": [
    "products = [\"flour\",\"apple\",\"punnet of raspberries\",\"bread\", \"apple\"]\n",
    "print(products[2:4])\n",
    "print(products[:4])\n",
    "print(products[2:])"
   ]
  },
  {
   "cell_type": "markdown",
   "id": "d7ca58ff-a8ef-4bc5-ab6d-61f18508df24",
   "metadata": {},
   "source": [
    "2.1 TASK 2: TUPLES\n",
    "\n",
    "TUPLES: Are multiple items stored in a single variable, they are Ordered, Indexed and Immutable (Unchangable) i.e elements or items cannot be changed, added or removed once created however, this can be done by making the tuple a list and converting back to tuple. List uses square bracket [] while Tuple uses (). Scott (2022).\n",
    "\n",
    "product_detail = (\"flour\", 3.59,\"aisle 1\",\"storeroom aisle A\", 34)\n",
    "print(product_detail)\n",
    "\n",
    "a. Converting above code into Tuple: \n",
    "\n",
    "In converting the above code i.e product_detail variable, we must keep all items in brackets() with each element separated by comma and inside a double or single quotation or inverted comma.\n",
    "\n",
    "For example, converting the product_detail variable list into tuple, we have the resulting code below:"
   ]
  },
  {
   "cell_type": "code",
   "execution_count": 29,
   "id": "cad75f7d-6af0-45b0-9d30-1a87d4c9ff08",
   "metadata": {},
   "outputs": [
    {
     "name": "stdout",
     "output_type": "stream",
     "text": [
      "('flour', 3.59, 'aisle 1', 'storeroom aisle A', 34)\n"
     ]
    }
   ],
   "source": [
    "product_detail = (\"flour\", 3.59,\"aisle 1\",\"storeroom aisle A\", 34)\n",
    "print(product_detail)"
   ]
  },
  {
   "cell_type": "code",
   "execution_count": 30,
   "id": "b492996b-50f1-43bc-b7f1-b2a2d0b732d1",
   "metadata": {},
   "outputs": [
    {
     "ename": "TypeError",
     "evalue": "'tuple' object does not support item assignment",
     "output_type": "error",
     "traceback": [
      "\u001b[0;31m---------------------------------------------------------------------------\u001b[0m",
      "\u001b[0;31mTypeError\u001b[0m                                 Traceback (most recent call last)",
      "Input \u001b[0;32mIn [30]\u001b[0m, in \u001b[0;36m<cell line: 1>\u001b[0;34m()\u001b[0m\n\u001b[0;32m----> 1\u001b[0m \u001b[43mproduct_detail\u001b[49m\u001b[43m[\u001b[49m\u001b[38;5;241;43m1\u001b[39;49m\u001b[43m]\u001b[49m\u001b[38;5;241m=\u001b[39m\u001b[38;5;241m3.784\u001b[39m\n\u001b[1;32m      2\u001b[0m \u001b[38;5;28mprint\u001b[39m(product_detail)\n",
      "\u001b[0;31mTypeError\u001b[0m: 'tuple' object does not support item assignment"
     ]
    }
   ],
   "source": [
    "product_detail[1]=3.784\n",
    "print(product_detail)"
   ]
  },
  {
   "cell_type": "markdown",
   "id": "2e72f982-b4e8-4aa1-be01-807cf4004bf2",
   "metadata": {},
   "source": [
    "Answer: The code in line 22 above did not work out because in Tuple, items are unchangeable after it has been created which is the case in the above example. The item price 3.59 was replaced with 3.784."
   ]
  },
  {
   "cell_type": "markdown",
   "id": "e6775b50-3de0-4f4b-9737-2d8642617dfd",
   "metadata": {},
   "source": [
    "2.2 TASK 3:  SET\n",
    "\n",
    "Python sets are identical to mathematical sets – they are unordered but have unique elements. They also have identical operations which are \n",
    "union, intersection, disjoint, subset, etc. Sets are useful only when we want to perform the mentioned operations on our datasets.\n",
    "\n",
    "Example:\n",
    "\n",
    "i. The code below represents a python set of string.                                                                                                 \n",
    "ii. It has duplicates elements which set does not allow. So, only one apple will be returned in the list because it does not allow duplicates.         \n",
    "iii. Prinitng the length of our element will return only 4 becasue it does not recognise duplicates.                                                    iv. Set cannot have mutable items.\n",
    "The code below explains the above statement:"
   ]
  },
  {
   "cell_type": "code",
   "execution_count": 31,
   "id": "1dc31724-01dd-4485-b82b-58b002665c9f",
   "metadata": {},
   "outputs": [
    {
     "name": "stdout",
     "output_type": "stream",
     "text": [
      "{'bread', 'apple', 'punnet of raspberries', 'flour'}\n",
      "4\n"
     ]
    }
   ],
   "source": [
    "products = {\"flour\",\"apple\",\"punnet of raspberries\",\"bread\", \"apple\"}\n",
    "print(products)\n",
    "print(len(products))"
   ]
  },
  {
   "cell_type": "markdown",
   "id": "251a18ec-74ce-493d-b9e5-02a11a47e972",
   "metadata": {},
   "source": [
    "3b. For further explanation, the code below is another example with elements of data type integers. It has duplicate element 2 but the output will only return only one element 2."
   ]
  },
  {
   "cell_type": "code",
   "execution_count": 32,
   "id": "dcdca3ce-7434-4678-8bfd-2b498783dd41",
   "metadata": {},
   "outputs": [
    {
     "name": "stdout",
     "output_type": "stream",
     "text": [
      "{1, 2, 3, 4, 5, 7, 90}\n",
      "7\n"
     ]
    }
   ],
   "source": [
    "my_set1 = {1, 2, 3, 4, 3, 2, 5, 2, 7, 90}\n",
    "print(my_set1)\n",
    "print(len(my_set1))"
   ]
  },
  {
   "cell_type": "markdown",
   "id": "c0e4646d-956d-490d-8700-29a4ac2aa7f0",
   "metadata": {},
   "source": [
    "a. OTHER OPERATIONS IN SET\n",
    "\n",
    "i. add(): is a method in python that is used to add a single element to a set\n",
    "ii. update(): is a method used to add multpile elements to a set i.e it can add a list to a set\n",
    "iii. remove()\n",
    "iv. union(): used to combine two different sets together returning all items from both sets, duplicates are excluded."
   ]
  },
  {
   "cell_type": "markdown",
   "id": "22a9cf1e-2664-4dfe-909b-f84409ea84dc",
   "metadata": {},
   "source": [
    "i. ADD"
   ]
  },
  {
   "cell_type": "code",
   "execution_count": 33,
   "id": "b37cb89a-397f-48b3-96ee-0e94895f2a9b",
   "metadata": {},
   "outputs": [
    {
     "name": "stdout",
     "output_type": "stream",
     "text": [
      "4\n",
      "{'bread', 'apple', 'punnet of raspberries', 'flour'}\n"
     ]
    }
   ],
   "source": [
    "products = {\"flour\",\"apple\",\"punnet of raspberries\",\"bread\", \"apple\"}\n",
    "print(len(products))\n",
    "print(products)\n"
   ]
  },
  {
   "cell_type": "markdown",
   "id": "0a737161-5891-470c-8e01-49363c6f0305",
   "metadata": {},
   "source": [
    "i. add(): It's a method in python that is used to add a given element to a set. In the example below after returning our original list, we added a new element 'bananas' which return a new set with the item added.It can add only 1 item per time.\n",
    "Applying it to strings"
   ]
  },
  {
   "cell_type": "code",
   "execution_count": 34,
   "id": "5ceb3cd1-68ae-48b2-ae60-3e6604a1ff35",
   "metadata": {},
   "outputs": [
    {
     "name": "stdout",
     "output_type": "stream",
     "text": [
      "5\n",
      "{'punnet of raspberries', 'bananas', 'bread', 'apple', 'flour'}\n"
     ]
    }
   ],
   "source": [
    "products = {\"flour\",\"apple\",\"punnet of raspberries\",\"bread\", \"apple\"}\n",
    "products.add(\"bananas\")\n",
    "print(len(products))\n",
    "print(products)"
   ]
  },
  {
   "cell_type": "markdown",
   "id": "616a7ccd-ab79-4ffc-be57-e398d28fdb2e",
   "metadata": {},
   "source": [
    "Applying it to integers with only 1 element added"
   ]
  },
  {
   "cell_type": "code",
   "execution_count": 35,
   "id": "6a5a3ce1-5857-4659-80f6-143118631bc8",
   "metadata": {},
   "outputs": [
    {
     "name": "stdout",
     "output_type": "stream",
     "text": [
      "{1, 2, 3, 4, 5, 7, 90, 60}\n"
     ]
    }
   ],
   "source": [
    "my_set1 = {1, 2, 3, 4, 3, 2, 5, 2, 7, 90}\n",
    "my_set1.add(60)\n",
    "print(my_set1)"
   ]
  },
  {
   "cell_type": "markdown",
   "id": "e4ab6370-c940-4d92-a2ef-d0328856cb48",
   "metadata": {},
   "source": [
    "Applying it to integers with several items added"
   ]
  },
  {
   "cell_type": "code",
   "execution_count": 127,
   "id": "ddc56461-24c3-47dd-bf2c-b039206ed44b",
   "metadata": {},
   "outputs": [
    {
     "ename": "TypeError",
     "evalue": "unhashable type: 'list'",
     "output_type": "error",
     "traceback": [
      "\u001b[0;31m---------------------------------------------------------------------------\u001b[0m",
      "\u001b[0;31mTypeError\u001b[0m                                 Traceback (most recent call last)",
      "Input \u001b[0;32mIn [127]\u001b[0m, in \u001b[0;36m<cell line: 2>\u001b[0;34m()\u001b[0m\n\u001b[1;32m      1\u001b[0m my_set1 \u001b[38;5;241m=\u001b[39m {\u001b[38;5;241m1\u001b[39m, \u001b[38;5;241m2\u001b[39m, \u001b[38;5;241m3\u001b[39m, \u001b[38;5;241m4\u001b[39m, \u001b[38;5;241m3\u001b[39m, \u001b[38;5;241m2\u001b[39m, \u001b[38;5;241m5\u001b[39m, \u001b[38;5;241m2\u001b[39m, \u001b[38;5;241m7\u001b[39m, \u001b[38;5;241m90\u001b[39m}\n\u001b[0;32m----> 2\u001b[0m \u001b[43mmy_set1\u001b[49m\u001b[38;5;241;43m.\u001b[39;49m\u001b[43madd\u001b[49m\u001b[43m(\u001b[49m\u001b[43m[\u001b[49m\u001b[38;5;241;43m23\u001b[39;49m\u001b[43m,\u001b[49m\u001b[38;5;241;43m44\u001b[39;49m\u001b[43m,\u001b[49m\u001b[38;5;241;43m56\u001b[39;49m\u001b[43m,\u001b[49m\u001b[38;5;241;43m87\u001b[39;49m\u001b[43m]\u001b[49m\u001b[43m)\u001b[49m\n\u001b[1;32m      3\u001b[0m \u001b[38;5;28mprint\u001b[39m(my_set1)\n",
      "\u001b[0;31mTypeError\u001b[0m: unhashable type: 'list'"
     ]
    }
   ],
   "source": [
    "my_set1 = {1, 2, 3, 4, 3, 2, 5, 2, 7, 90}\n",
    "my_set1.add([23,44,56,87])\n",
    "print(my_set1)"
   ]
  },
  {
   "cell_type": "markdown",
   "id": "19107906-a65d-4c63-b535-288f4bf8cd39",
   "metadata": {},
   "source": [
    "Several items cannot be added to a set using add() method, the above code returned an error."
   ]
  },
  {
   "cell_type": "markdown",
   "id": "929bcfae-439a-4448-bf06-a52b7cf6092d",
   "metadata": {},
   "source": [
    "ii. update(): Is a method used to overcome the limitation of the add() method. It's used to add several elements to a python set. \n",
    "It has advantage over add() becasue it can be used to add several elements."
   ]
  },
  {
   "cell_type": "code",
   "execution_count": 128,
   "id": "aad3443c-6fda-4d72-8186-164939c78d02",
   "metadata": {},
   "outputs": [
    {
     "name": "stdout",
     "output_type": "stream",
     "text": [
      "{1, 2, 3, 4, 5, 2.3, 7, 44, 87, 23, 56, 90}\n"
     ]
    }
   ],
   "source": [
    "my_set1 = {1, 2, 3, 4, 3, 2, 5, 2, 7, 90, 2.3}\n",
    "my_set1.update([23,44,56,87])\n",
    "print(my_set1)"
   ]
  },
  {
   "cell_type": "markdown",
   "id": "3c048940-1f5b-4769-bcfe-918b27f0800c",
   "metadata": {},
   "source": [
    "(iii) pop(): Is a method which removes random element from a set (W3 Schools, 2022)"
   ]
  },
  {
   "cell_type": "code",
   "execution_count": 129,
   "id": "3bbf641f-360c-40a9-94ce-efbd419165f5",
   "metadata": {},
   "outputs": [
    {
     "name": "stdout",
     "output_type": "stream",
     "text": [
      "3\n",
      "{'apple', 'punnet of raspberries', 'flour'}\n"
     ]
    }
   ],
   "source": [
    "products = {\"flour\",\"apple\",\"punnet of raspberries\",\"bread\", \"apple\"}\n",
    "products.pop()\n",
    "print(len(products))\n",
    "print(products)"
   ]
  },
  {
   "cell_type": "markdown",
   "id": "2c1f4b9b-d38f-4be4-97f2-50e04b3bffbc",
   "metadata": {},
   "source": [
    "Another example to demostrate how pop() works is applying it to print names of week days."
   ]
  },
  {
   "cell_type": "code",
   "execution_count": 130,
   "id": "09b43d66-eaf4-4eb7-952c-53d100830032",
   "metadata": {},
   "outputs": [
    {
     "name": "stdout",
     "output_type": "stream",
     "text": [
      "{'monday', 'thursday', 'sunday', 'tuesday', 'wednesday', 'friday'}\n"
     ]
    }
   ],
   "source": [
    "week_days = {\"monday\", \"tuesday\", \"wednesday\", \"thursday\", \"friday\", \"saturday\", \"sunday\"}\n",
    "week_days.pop() \n",
    "print(week_days)"
   ]
  },
  {
   "cell_type": "markdown",
   "id": "b0088841-45f7-404f-b470-4cdb01ce4cbc",
   "metadata": {},
   "source": [
    "iii. remove(): It's a method used to remove a specified item in a python set e.g we can specify to remove the 'monday' from the variable week_days"
   ]
  },
  {
   "cell_type": "code",
   "execution_count": 131,
   "id": "64eb576e-aa9c-4903-bb49-d0fc50000a10",
   "metadata": {},
   "outputs": [
    {
     "name": "stdout",
     "output_type": "stream",
     "text": [
      "{'saturday', 'thursday', 'sunday', 'tuesday', 'wednesday', 'friday'}\n"
     ]
    }
   ],
   "source": [
    "week_days = {\"monday\", \"tuesday\", \"wednesday\", \"thursday\", \"friday\", \"saturday\", \"sunday\"}\n",
    "week_days.remove(\"monday\") \n",
    "print(week_days)"
   ]
  },
  {
   "cell_type": "markdown",
   "id": "72809e0c-1ae7-41cf-8af3-c315ef189bf5",
   "metadata": {},
   "source": [
    "iv. Union: applying union to the piece of set below will combine them together while removing dupicates"
   ]
  },
  {
   "cell_type": "code",
   "execution_count": 132,
   "id": "f499f832-c43b-40cd-821b-0dcc237de683",
   "metadata": {},
   "outputs": [
    {
     "name": "stdout",
     "output_type": "stream",
     "text": [
      "8\n",
      "4\n"
     ]
    }
   ],
   "source": [
    "my_set1 = {1, 2, 3, 4, 3, 2, 5, 2, 7, 90, 2.3}\n",
    "my_set2 = {2.3, 3.5, 4.5, 6.6}\n",
    "print(len(my_set1))\n",
    "print(len(my_set2))"
   ]
  },
  {
   "cell_type": "markdown",
   "id": "79c8c2c4-6cdd-4c8f-bcce-9fbb41851cc3",
   "metadata": {},
   "source": [
    "Based on the number of items in variables my_set1 (8) and my_set2 (4), one will expect the union of the two variables \n",
    "to have ouput of 12 however, it will return 11 items becasue set does not permit duplicates. In this case item 2.3 is a duplicate\n",
    "common to both sets. This is described in the piece of code below"
   ]
  },
  {
   "cell_type": "code",
   "execution_count": 133,
   "id": "a20bf4eb-11ba-4d58-9d16-7d6a13591c18",
   "metadata": {},
   "outputs": [
    {
     "name": "stdout",
     "output_type": "stream",
     "text": [
      "{1, 2, 3, 4, 5, 2.3, 7, 3.5, 4.5, 6.6, 90}\n",
      "11\n"
     ]
    }
   ],
   "source": [
    "combine = my_set1.union(my_set2)\n",
    "print(combine)\n",
    "print(len(combine))"
   ]
  },
  {
   "cell_type": "markdown",
   "id": "801cbf96-484f-4560-a9a6-94db414c60f3",
   "metadata": {},
   "source": [
    "3d. Adding List and set (float data type)"
   ]
  },
  {
   "cell_type": "code",
   "execution_count": 134,
   "id": "e2ee98f7-4ea4-45af-ab83-6a5a3e6e71c9",
   "metadata": {},
   "outputs": [
    {
     "name": "stdout",
     "output_type": "stream",
     "text": [
      "{33, 2.3, 3.5, 4.5, 100, 6.6, 44, 25}\n"
     ]
    }
   ],
   "source": [
    "my_set2 = {2.3, 3.5, 4.5, 6.6}\n",
    "my_set2.update([44, 25, 33, 100])\n",
    "print(my_set2)"
   ]
  },
  {
   "cell_type": "markdown",
   "id": "ce1e3ba7-9065-41ff-94f3-6619acc3b9f9",
   "metadata": {},
   "source": [
    "2.3\n",
    "\n",
    "LOOP: A python for loop is used to iterate over a set. It goes over each of the item in a set and return each of the items in their order. Loop takes into cognisance integer first, followed by float then strings."
   ]
  },
  {
   "cell_type": "code",
   "execution_count": 135,
   "id": "ff063814-8515-415c-9980-3fe5d2253f21",
   "metadata": {},
   "outputs": [
    {
     "name": "stdout",
     "output_type": "stream",
     "text": [
      "{34, 3.59, 'aisle 1', 'storeroom aisle A', 'flour'}\n",
      "34\n",
      "3.59\n",
      "aisle 1\n",
      "storeroom aisle A\n",
      "flour\n"
     ]
    }
   ],
   "source": [
    "product_detail = {\"flour\", 3.59,\"aisle 1\",\"storeroom aisle A\", 34}\n",
    "print(product_detail)\n",
    "for loop in product_detail:\n",
    "    print(loop)"
   ]
  },
  {
   "cell_type": "markdown",
   "id": "9d436536-ba64-4510-8c25-793e9378cc9c",
   "metadata": {},
   "source": [
    "2.4 \n",
    "\n",
    "TASK 4: DICTIONARY\n",
    "\n",
    "Dictionary is a python container that stores mappings of unique keys to values. It is ordered and mutable/changeable. They are written with curly brackets {}, with key-value pairs separated by commas (,) and a colon (:) separating each key from its value. Amanda, 2020."
   ]
  },
  {
   "cell_type": "markdown",
   "id": "81296144-26a0-4244-b572-576cad8ee516",
   "metadata": {},
   "source": [
    "2.4.1 Task 4.1: Cleaning of dictionary code\n",
    "\n",
    "Based on the class task, below is a dictionary code to display this."
   ]
  },
  {
   "cell_type": "code",
   "execution_count": 136,
   "id": "94cfe199-60a4-47bc-a182-90b7d32e278c",
   "metadata": {},
   "outputs": [
    {
     "name": "stdout",
     "output_type": "stream",
     "text": [
      "<class 'dict'>\n",
      "{'product': 'flour', 'price': 3.59, 'store location': 'aisle 1', 'storeroom location': 'storeroom aisle A', 'no. in stock': 34}\n",
      "flour\n",
      "3.59\n"
     ]
    }
   ],
   "source": [
    "product_detail = {\"product\":\"flour\",\"price\":3.59,\"store location\":\"aisle 1\",\"storeroom location\":\"storeroom aisle A\",\"no. in stock\":34}\n",
    "print(type(product_detail))\n",
    "print(product_detail)\n",
    "print(product_detail[\"product\"])\n",
    "print(product_detail[\"price\"])"
   ]
  },
  {
   "cell_type": "markdown",
   "id": "b6dc5616-e43d-4b01-a356-ba5dd53a4b80",
   "metadata": {},
   "source": [
    "2.4.2\n",
    "Task (4.2) What does dictionary do?\n",
    "\n",
    "Python dictionary stores elements in key-value pairs. Keys are unique identifiers that are associated with each value. This data structure is best when considering storing several pieces of information about an element.\n",
    "\n",
    "\n",
    "2.4.3 \n",
    "\n",
    "Task (4.3) What you can do with a dictionary?\n",
    "\n",
    "a. Dictionary permits storing elements in key-value pairs\n",
    "b. Elements are indexable, so we can call for a value by specifying its key. \n",
    "c. It gives the best of both sets and lists. \n",
    "d. Dictionaries can also be nested so that the value that a key maps to is a dictionary rather than a number or a string. They map keys, which can be any immutable type, to values, which can be any type (heterogeneous), just like the elements of a list or tuple.\n",
    "\n",
    "2.4.4 Characteristics of Dictionary\n"
   ]
  },
  {
   "cell_type": "markdown",
   "id": "6007b744-6b88-45aa-94a1-912ed779c632",
   "metadata": {},
   "source": [
    "2.5a\n",
    "\n",
    "MODELLING THE LIST OF CANTERBURY CAMPUSES IN KENT AND APPLYING SOME OF THE MODELS IN TASKS 1 TO 4:\n",
    "\n",
    "2.5.1 \n",
    "\n",
    "Considering simulating a request by International students for the list of Canterbury Campuses in Kent. The output must contain the name of the campuses, the addresses, the post code and the region which they are located.                                                      "
   ]
  },
  {
   "cell_type": "code",
   "execution_count": 137,
   "id": "46334e35-a91a-4753-8bac-a12bd93df7c6",
   "metadata": {},
   "outputs": [
    {
     "name": "stdout",
     "output_type": "stream",
     "text": [
      "4\n",
      "['Canterbury Christ Church University, Northwood Road, CT10 2WA, Broadstairs, Kent, South East Region', 'Canterbury Christ Church University, North Holmes Road, CT1 1QU, Canterbury, Kent, South East Region', 'Canterbury Christ Church University, Broomhill Road, TN3 0TG, Tunbridge Wells, Kent, South East Region', 'Canterbury Christ Church University, 30 Pembroke Court, Rowan Williams Court, ME4 4UF, Chatham, Kent, South East Region']\n",
      "<class 'list'>\n"
     ]
    }
   ],
   "source": [
    "canterburycampuses_kent = [\"Canterbury Christ Church University, Northwood Road, CT10 2WA, Broadstairs, Kent, South East Region\",\n",
    "                           \"Canterbury Christ Church University, North Holmes Road, CT1 1QU, Canterbury, Kent, South East Region\",\n",
    "                  \"Canterbury Christ Church University, Broomhill Road, TN3 0TG, Tunbridge Wells, Kent, South East Region\",\n",
    "                \"Canterbury Christ Church University, 30 Pembroke Court, Rowan Williams Court, ME4 4UF, Chatham, Kent, South East Region\"]\n",
    "print(len(canterburycampuses_kent))\n",
    "print(canterburycampuses_kent)\n",
    "print(type(canterburycampuses_kent))"
   ]
  },
  {
   "cell_type": "markdown",
   "id": "70387d60-9972-4daa-a406-d69ec5365c57",
   "metadata": {},
   "source": [
    "2.5.2: Applying for loop() to list\n",
    "\n",
    "Looking at the above list output, it is not easily readable by the students. This can be overcome by applying the for loop to have the list created to make it readable hence another variable was created to allow for the readablitiy of the list output."
   ]
  },
  {
   "cell_type": "code",
   "execution_count": 138,
   "id": "9dfd7725-90ed-4032-99e8-f79af09af6d5",
   "metadata": {},
   "outputs": [
    {
     "name": "stdout",
     "output_type": "stream",
     "text": [
      "<class 'list'>\n",
      "Canterbury Christ Church University, Northwood Road, CT10 2WA, Broadstairs, Kent, South East Region\n",
      "Canterbury Christ Church University, North Holmes Road, CT1 1QU, Canterbury, Kent, South East Region\n",
      "Canterbury Christ Church University, Broomhill Road, TN3 0TG, Tunbridge Wells, Kent, South East Region\n",
      "Canterbury Christ Church University, 30 Pembroke Court, Rowan Williams Court, ME4 4UF, Chatham, Kent, South East Region\n"
     ]
    }
   ],
   "source": [
    "list_canterburycampuses2 = [\"Canterbury Christ Church University, Northwood Road, CT10 2WA, Broadstairs, Kent, South East Region\",\n",
    "                           \"Canterbury Christ Church University, North Holmes Road, CT1 1QU, Canterbury, Kent, South East Region\",\n",
    "                  \"Canterbury Christ Church University, Broomhill Road, TN3 0TG, Tunbridge Wells, Kent, South East Region\",\n",
    "                \"Canterbury Christ Church University, 30 Pembroke Court, Rowan Williams Court, ME4 4UF, Chatham, Kent, South East Region\"]\n",
    "print(type(list_canterburycampuses2))\n",
    "for loop in list_canterburycampuses2:\n",
    "    print(loop)"
   ]
  },
  {
   "cell_type": "markdown",
   "id": "60217411-45a7-4372-9a43-040ba4a08f0f",
   "metadata": {},
   "source": [
    "2.5.3 Applying Negative index"
   ]
  },
  {
   "cell_type": "code",
   "execution_count": 139,
   "id": "da91f456-b2d5-4978-8ea8-94706aeb7f7b",
   "metadata": {},
   "outputs": [
    {
     "name": "stdout",
     "output_type": "stream",
     "text": [
      "Canterbury Christ Church University, Broomhill Road, TN3 0TG, Tunbridge Wells, Kent, South East Region\n",
      "Canterbury Christ Church University, North Holmes Road, CT1 1QU, Canterbury, Kent, South East Region\n",
      "Canterbury Christ Church University, 30 Pembroke Court, Rowan Williams Court, ME4 4UF, Chatham, Kent, South East Region\n",
      "Canterbury Christ Church University, Northwood Road, CT10 2WA, Broadstairs, Kent, South East Region\n"
     ]
    }
   ],
   "source": [
    "list_canterburycampuses2 = [\"Canterbury Christ Church University, Northwood Road, CT10 2WA, Broadstairs, Kent, South East Region\",\n",
    "                           \"Canterbury Christ Church University, North Holmes Road, CT1 1QU, Canterbury, Kent, South East Region\",\n",
    "                  \"Canterbury Christ Church University, Broomhill Road, TN3 0TG, Tunbridge Wells, Kent, South East Region\",\n",
    "                \"Canterbury Christ Church University, 30 Pembroke Court, Rowan Williams Court, ME4 4UF, Chatham, Kent, South East Region\"]\n",
    "print(list_canterburycampuses2[-2])\n",
    "print(list_canterburycampuses2[-3])\n",
    "print(list_canterburycampuses2[-1])\n",
    "print(list_canterburycampuses2[-4])"
   ]
  },
  {
   "cell_type": "markdown",
   "id": "1f2ad85a-9dea-46bb-998d-6afb7120687b",
   "metadata": {},
   "source": [
    "2.5.3 Adding strings to make a statement to meet up with the request to recommend one of the universities for data science"
   ]
  },
  {
   "cell_type": "code",
   "execution_count": 140,
   "id": "c15e4f9d-45af-401c-b074-e7ba8daa6a05",
   "metadata": {},
   "outputs": [
    {
     "name": "stdout",
     "output_type": "stream",
     "text": [
      "Based on your request that i should recommend a university to you, Canterbury Christ Church University, North Holmes Road, CT1 1QU, Canterbury, Kent, South East Region is the university where I am currently studying for my MSC program in Data Intelligence. It's a university with experienced lecturers and course directors in Data Science field. You can access the schools website by clicking the website https://www.canterbury.ac.uk/ \n",
      "<class 'str'>\n"
     ]
    }
   ],
   "source": [
    "recommendation = ((\"Based on your request that i should recommend a university to you, \" + list_canterburycampuses2[-3] + \" is \" + \n",
    "                      \"the university where I am currently studying for my MSC program in Data Intelligence.\"\n",
    "                      \" It's a university with experienced lecturers and course directors in Data Science field. You can access the schools \"\n",
    "                   \"website by clicking the website https://www.canterbury.ac.uk/ \"))\n",
    "print(recommendation)\n",
    "print(type(recommendation))"
   ]
  },
  {
   "cell_type": "markdown",
   "id": "e94729be-4ff2-455c-85f9-de0a79dcbba3",
   "metadata": {},
   "source": [
    "2.6 \n",
    "\n",
    "TASK 5b: CREATING A SYSTEM/EXAMPLES THAT DEMONSTRATES LISTS, TUPLES, SETS AND DICTIONARIES\n",
    "\n",
    "2.6.1 Modelling the list of top 5 cheapest camp sites in Kent\n",
    "\n",
    "Looking at another scenario, modelling the list of top 5 cheapest camp sites in Kent as requested by the students of Canterbury Christ Church University for their December holiday. \n",
    "\n",
    "This was achieved by creating a variable kentcamp_sites with 5 camp sites that meets with their budget."
   ]
  },
  {
   "cell_type": "code",
   "execution_count": 141,
   "id": "45b49b31-8df0-425d-8b15-023470f239eb",
   "metadata": {},
   "outputs": [
    {
     "name": "stdout",
     "output_type": "stream",
     "text": [
      "<class 'tuple'>\n",
      "5\n",
      "('Kits Coty Glamping', 'Ramkins Farm', \"Knight's Glamping\", 'The Finches Caravan & Camping Site', 'Glamping at Gravel Pit Farm')\n"
     ]
    }
   ],
   "source": [
    "kentcamp_sites = (\"Kits Coty Glamping\", \"Ramkins Farm\", \"Knight's Glamping\", \n",
    "                  \"The Finches Caravan & Camping Site\", \"Glamping at Gravel Pit Farm\")\n",
    "print(type(kentcamp_sites))\n",
    "print(len(kentcamp_sites))\n",
    "print(kentcamp_sites)"
   ]
  },
  {
   "cell_type": "markdown",
   "id": "6ed15758-cb38-4d2c-8f54-3654f034eef4",
   "metadata": {},
   "source": [
    "b. Looking at the above list, it is not easily readable by the students, so applying the for loop to have the list created separately from each other to make it readable hence another variable was created to allow for the readablitiy of the list as requested by the students representative."
   ]
  },
  {
   "cell_type": "code",
   "execution_count": 142,
   "id": "d5cb747e-4aa5-414e-8333-7ddd3795a6e2",
   "metadata": {},
   "outputs": [
    {
     "name": "stdout",
     "output_type": "stream",
     "text": [
      "5\n",
      "Kits Coty Glamping\n",
      "Ramkins Farm\n",
      "Knight's Glamping\n",
      "The Finches Caravan & Camping Site\n",
      "Glamping at Gravel Pit Farm\n"
     ]
    }
   ],
   "source": [
    "kentcamp_sites2 = (\"Kits Coty Glamping\", \"Ramkins Farm\", \"Knight's Glamping\", \n",
    "                  \"The Finches Caravan & Camping Site\", \"Glamping at Gravel Pit Farm\")\n",
    "print(len(kentcamp_sites))\n",
    "for loop in kentcamp_sites2:\n",
    "    print(loop)"
   ]
  },
  {
   "cell_type": "markdown",
   "id": "13b03467-fd76-45db-bf87-4d8971d19a3c",
   "metadata": {},
   "source": [
    "c. The cheapest camp site which meets the student's budget was selected from the list of camp sites by adding elements of different data types in a list."
   ]
  },
  {
   "cell_type": "code",
   "execution_count": 143,
   "id": "618738c4-e191-4ee7-a6f2-0f027d6a9fbf",
   "metadata": {},
   "outputs": [
    {
     "name": "stdout",
     "output_type": "stream",
     "text": [
      "The cheapest camp site that fits your budget as students is: Kits Coty Glamping, located at Aylesford, Maidstone, Kent. It's costs per hour is £52. \n",
      "Other camp sites are: Ramkins Farm, Knight's Glamping, The Finches Caravan & Camping Site,and Glamping at Gravel Pit Farm. \n",
      "They cost £20 on the average.\n",
      "<class 'list'>\n"
     ]
    }
   ],
   "source": [
    "cheapest_camp = [\"Kits Coty Glamping\", 2.70,\"Aylesford, Maidstone, Kent. \",\"costs per hour\", 52, \"on the average\", 20]\n",
    "print(\"The cheapest camp site that fits your budget as students is: \"+cheapest_camp[0]+\", located at \"+ \n",
    "      cheapest_camp[2]+\"It's \" +cheapest_camp[3]+ \" is \"+ \"£\"+str(cheapest_camp[4]) + \". \\nOther camp sites are: \"+kentcamp_sites2[1]+\n",
    "      ', '+kentcamp_sites2[2]+', '+kentcamp_sites2[3]+',and '+kentcamp_sites2[4]+ \". \\nThey cost \"+\"£\"+str(cheapest_camp[6])\n",
    "      +\" \"+str(cheapest_camp[5]+\".\"))\n",
    "print(type(cheapest_camp))"
   ]
  },
  {
   "cell_type": "markdown",
   "id": "8a32bcb4-cfce-4ca9-9a29-ce0545fbe364",
   "metadata": {},
   "source": [
    "2.6.2\n",
    "\n",
    "SETS: MODELLING PRODUCT AVAILABILITY IN TWO DIFFERENT NAMED STORES USING SET DATA TYPE STORAGE"
   ]
  },
  {
   "cell_type": "markdown",
   "id": "1aafd9ce-e5e3-443e-9844-8bb59813fdbf",
   "metadata": {},
   "source": [
    "The example below shows the list of groceries available in Lidl store which includes only 4 items and the class type is set"
   ]
  },
  {
   "cell_type": "code",
   "execution_count": 144,
   "id": "36e29d1a-ac9d-464e-bc0c-066a8f5e2df6",
   "metadata": {},
   "outputs": [
    {
     "name": "stdout",
     "output_type": "stream",
     "text": [
      "{'cookies', 'milk', 'cheese', 'candies'}\n",
      "4\n",
      "<class 'set'>\n"
     ]
    }
   ],
   "source": [
    "lidl_groceries = {\"milk\", \"cheese\", \"candies\",\"cookies\"}\n",
    "print(lidl_groceries)\n",
    "print(len(lidl_groceries))\n",
    "print(type(lidl_groceries))"
   ]
  },
  {
   "cell_type": "markdown",
   "id": "e61b3f43-b69c-41c2-9e65-b91b98e8310d",
   "metadata": {},
   "source": [
    "2.6.3 Combining List and Set"
   ]
  },
  {
   "cell_type": "markdown",
   "id": "4eb4e1e7-d6eb-4592-b5c1-c62e78f5c4de",
   "metadata": {},
   "source": [
    "This second example shows the list of items available in Lidl store which includes only 7 items"
   ]
  },
  {
   "cell_type": "code",
   "execution_count": 145,
   "id": "5d4616dd-6582-45c0-9c2c-0f7ebc2f7d88",
   "metadata": {},
   "outputs": [
    {
     "name": "stdout",
     "output_type": "stream",
     "text": [
      "{'pepper', 'body cream', 'milk', 'vegtables', 'toilet soaps', 'bathing soaps', 'toiletries'}\n",
      "7\n",
      "<class 'set'>\n"
     ]
    }
   ],
   "source": [
    "asda_items = {\"milk\", \"pepper\", \"vegtables\",\"toiletries\", \"toilet soaps\", \"bathing soaps\", \"body cream\"}\n",
    "print(asda_items)\n",
    "print(len(asda_items))\n",
    "print(type(asda_items))"
   ]
  },
  {
   "cell_type": "markdown",
   "id": "1a4eacc7-dec0-4921-b01b-6449adc57fb3",
   "metadata": {},
   "source": [
    "Combining list and set: this example is to show how to add several items (of different data types) to an already created set \n",
    "by using the update() method.\n",
    "\n",
    "It took the different data types in this order: float, followed by integer then strings."
   ]
  },
  {
   "cell_type": "code",
   "execution_count": 146,
   "id": "acff844f-774f-4bbf-956a-010439cfb399",
   "metadata": {},
   "outputs": [
    {
     "name": "stdout",
     "output_type": "stream",
     "text": [
      "{0.75, 33, 0.23, 'candies', 'cookies', 44, 'milk', 'cheese'}\n",
      "<class 'set'>\n"
     ]
    }
   ],
   "source": [
    "lidl_groceries = {\"milk\", \"cheese\", \"candies\",\"cookies\"}\n",
    "lidl_groceries.update([44, 0.75, 33, 0.23])\n",
    "print(lidl_groceries)\n",
    "print(type(asda_items))"
   ]
  },
  {
   "cell_type": "markdown",
   "id": "2df49ebc-27f1-4b8f-97ab-5967869b85ac",
   "metadata": {},
   "source": [
    "Merging or combinig the two sets together using the union() method: Because set does not permit duplicates, it will remove one of the duplicated item, returning only one in the output i.e Milk"
   ]
  },
  {
   "cell_type": "markdown",
   "id": "0872bf0b-1f9e-4dd1-87d2-fe9c71536f0d",
   "metadata": {},
   "source": [
    "Intersection(): Is a method in python set that is used to identify which item is common to both set"
   ]
  },
  {
   "cell_type": "code",
   "execution_count": 57,
   "id": "2ad61e23-4f55-44a7-922b-56b1428aa05f",
   "metadata": {},
   "outputs": [
    {
     "name": "stdout",
     "output_type": "stream",
     "text": [
      "14\n",
      "1\n",
      "{'milk'}\n",
      "<class 'set'>\n"
     ]
    }
   ],
   "source": [
    "lidlgroceries_updated = {\"milk\", \"cheese\", \"candies\",\"cookies\", 0.75, 33}\n",
    "asda_items = {\"milk\", \"pepper\", \"vegtables\",\"toiletries\", 0.23, 44, \"toilet soaps\", \"bathing soaps\", \"body cream\"}\n",
    "combination = lidlgroceries_updated.union(asda_items)\n",
    "print(len(combination))\n",
    "print(len(lidlgroceries_updated.intersection(asda_items)))\n",
    "print(lidlgroceries_updated.intersection(asda_items))\n",
    "print(type(lidlgroceries_updated))"
   ]
  },
  {
   "cell_type": "markdown",
   "id": "6ebd62ad-20d2-428d-a6a2-cfe4d39dc2bd",
   "metadata": {},
   "source": [
    "The output is saying that there are 14 items in both sets with only 1 item being common to both sets and it is Milk."
   ]
  },
  {
   "cell_type": "code",
   "execution_count": 58,
   "id": "5b854284-f381-4d53-924e-37d9f16cfc20",
   "metadata": {},
   "outputs": [
    {
     "name": "stdout",
     "output_type": "stream",
     "text": [
      "{0.75, 33, 0.23, 'vegtables', 'candies', 'cookies', 44, 'toilet soaps', 'bathing soaps', 'pepper', 'body cream', 'milk', 'cheese', 'toiletries'}\n",
      "14\n",
      "<class 'set'>\n"
     ]
    }
   ],
   "source": [
    "lidlgroceries_updated = {\"milk\", \"cheese\", \"candies\",\"cookies\", 0.75, 33}\n",
    "asda_items = {\"milk\", \"pepper\", \"vegtables\",\"toiletries\", 0.23, 44, \"toilet soaps\", \"bathing soaps\", \"body cream\"}\n",
    "combination = lidlgroceries_updated.union(asda_items)\n",
    "print(combination)\n",
    "print(len(combination))\n",
    "print(type(lidlgroceries_updated))"
   ]
  },
  {
   "cell_type": "markdown",
   "id": "aa737069-3b9a-47fc-9ccb-848696b2eabd",
   "metadata": {},
   "source": [
    "2.6.4 \n",
    "\n",
    "Modelling cheapest camp site IN Kent using Dictionary data type Storage\n",
    "\n",
    "DICTIONARY: Using the exmple of the cheapest camp site requested by CCCU students to create a dictionary to reflect the camp site that site that meets their budget.\n",
    "\n",
    "Dictionary was used for the data storage type because it includes key-value pairs."
   ]
  },
  {
   "cell_type": "code",
   "execution_count": 59,
   "id": "bb155c81-c4db-4f29-802a-2d1059c3a43e",
   "metadata": {},
   "outputs": [
    {
     "name": "stdout",
     "output_type": "stream",
     "text": [
      "<class 'dict'>\n",
      "{'site name': 'Kits Coty Glamping', 'price per hour': 2.7, 'Location': 'Aylesford, Maidstone, Kent', 'status': 'Available'}\n",
      "The site name is Kits Coty Glamping\n",
      "It costs 2.7 per hour\n",
      "It's located at Aylesford, Maidstone, Kent\n",
      "Rental status: Available\n"
     ]
    }
   ],
   "source": [
    "cheapestcamp_detail = {\"site name\":\"Kits Coty Glamping\",\"price per hour\":2.70,\"Location\": \"Aylesford, Maidstone, Kent\",\"status\":\"Available\"}\n",
    "print(type(cheapestcamp_detail))\n",
    "print(cheapestcamp_detail)\n",
    "print(\"The site name is \"+cheapestcamp_detail[\"site name\"])\n",
    "print(\"It costs \"+str(cheapestcamp_detail[\"price per hour\"])+ \" per hour\")\n",
    "print(\"It's located at \"+cheapestcamp_detail[\"Location\"])\n",
    "print(\"Rental status: \"+cheapestcamp_detail[\"status\"])\n"
   ]
  },
  {
   "cell_type": "code",
   "execution_count": 60,
   "id": "deee610a-09ea-494e-93c5-ba246726d24c",
   "metadata": {},
   "outputs": [
    {
     "name": "stdout",
     "output_type": "stream",
     "text": [
      "The cheapest camp site that fits your budget as students is Kits Coty Glamping. It's located at Aylesford, Maidstone, Kent. \n",
      "The cost per hour is £2.7.  It's Available for rental. Booking online 4 days to the date gets you 20% discount.\n"
     ]
    }
   ],
   "source": [
    "print(\"The cheapest camp site that fits your budget as students is \"+cheapestcamp_detail[\"site name\"]+\".\" + \" It's located at \" \n",
    "      +cheapestcamp_detail[\"Location\"]+ \". \\nThe cost per hour is £\"+str(cheapestcamp_detail[\"price per hour\"])+\n",
    "      \".  It's \"+cheapestcamp_detail[\"status\"]+ \" for rental. Booking online 4 days to the date gets you 20% discount.\")"
   ]
  },
  {
   "cell_type": "markdown",
   "id": "6d5bfa7d-32d1-4352-b1c6-1d74047363bd",
   "metadata": {},
   "source": [
    "3. 0\n",
    "\n",
    "INTRODUCTION OF ACTIVITY 5.2\n",
    "\n",
    "This activity is all about exploring the power of pandas to read CSV file and converting it to reading and manipulatable dataset in python. It also includes investigating simple plots using the matplotlib module and combine that with using CSV file handling.\n",
    "\n",
    "a. What is a DataFrame: A Pandas DataFrame is a table with rows and columns. Pandas DataFrames makes data manipulation easy within python. It has some in built function which makes it easy for selecting or replacing columns and indices to reshaping of data. They come with pandas library which are defined as two-dimensional labeled data structures with columns of potentially different data types. Datacamp, 2022.\n",
    "\n",
    "b. Characteristics of Dataframe: Dataframe has the foloowing characteristics:\n",
    "\n",
    "i. Each column can have a label name which can contain data of different types.\n",
    "ii. Each rows has its own index within a range beginning from [0]. The rows index can also be set as labels.\n",
    "iii. All cells have both a row index and a column index.\n",
    "iv. Cells can be selected on location-based indexing. Data can be queried within dataframe beased on specific values for data within dataframes based on specific values.\n",
    "v. Some cells must have null values because of inherent tabular structure.\n",
    "vi. Arithmetic operations can be performed on rows and columns.\n",
    "vii. It has labeled axes.\n",
    "viii. It has mutable size.\n",
    "ix. It is heterogeneous.\n",
    "x. Each column in a dataframe is a series. ProgramsBuzz, 2021.\n",
    "\n",
    "c. Usefulness of Dataframe in Python: Below are some of the ussefullness of the dataframe in-built functions in data manipulation within the python environment.\n",
    "\n",
    "i. It's useful for data manipulation: It can be used to correct the data type a column should have. For example, a csv data may have a date column being parsed as a string. Using the parse_dates optional parameter of the Pandas read_csv method converts the specified column names to the correct datetime data type.\n",
    "\n",
    "ii. Configuring Options and Settings: Pandas has a set of in-built functions which allow users to configure options and setting. For example, a user can configure that anytime a csv file is being read by pandas, it should always display the top ten dataset. It can also be used to specify the number of rows and columns shown, and to what precision floating point numbers are displayed. This is a huge productivity booster function since they permit a user to tailor pandas environment to the way the user wants it.\n",
    "\n",
    "iii. It's useful in combining two dataframes by using wither the Concatenation or Merging.\n",
    "\n",
    "iv. Reshaping DataFrames: There are different methods with in-built functions that can be used for reshaping. Some of them are: Transpose, Groupby and Stacking, \n",
    "\n",
    "v. Working with time data: Pandas comes with a function called 'to_datetime()' that can compress and convert multiple DataFrame columns into a single Datetime object. Once it’s in that format, it will have all the flexibility of the Datetime library at your disposal.\n",
    "\n",
    "vi. Mapping Items into Groups: Mapping is a function that helps with organizing categorical data. For example, a big DataFrame that has thousands of rows, where one of the columns has items we wish to categorize. Categoriizing the items will help in simplify both the training of Machine Learning models and visualizing the data effectively. George, 2019.  "
   ]
  },
  {
   "cell_type": "markdown",
   "id": "5ce9a882",
   "metadata": {},
   "source": [
    "3.1.1 Other Tasks \n",
    "\n",
    "TASK 1a: CREATING A NEW JUPYTER NOTEBOOK TO REFINE ACTIVITY 5.2\n",
    "\n",
    "From the in-class activity 5.2 which is a part of this assignment, a covid file of csv (comma separated value) extension was downloaded, exracted and uploaded to the jupter notebook. This same task was repeated here in order to refine the in-class activity. The data was used to demonstrate some of the characteristics dataframe and in-built functions of the pandas dataframe in manilupating data.\n",
    "\n",
    "Steps:\n",
    "\n",
    "(a). Loading Data to Jupyter notebook: The covid csv file was uploaded to Jupyter notebook. This was done by clicking on load icon (upload files: an arrow facing up with a base) at the top left hand corner of the file browser menu. This connects to the dialogue table where the directory of the extracted file was specified. The file name uploaded was \"covid_1.csv\".\n",
    "\n",
    "(b) Importing of the needed Library: The library needed to successfully read the covid_1.csv is pandas. This library was imported into jupyter i.e 'import pandas as pd'\n",
    "\n",
    "Note: From this point, for each code written, the run button must be clicked for jupyter to identify the library."
   ]
  },
  {
   "cell_type": "code",
   "execution_count": 61,
   "id": "d8955fba",
   "metadata": {},
   "outputs": [],
   "source": [
    "import pandas as pd"
   ]
  },
  {
   "cell_type": "markdown",
   "id": "d2c1c1a0-8836-4928-be83-487a90111e28",
   "metadata": {},
   "source": [
    "(c) dataframe (df): A variable named dataframe (df) was created, this acts as a container which for the code that was used to command pd to read the covid_1.cvs file. \n",
    "\n",
    "The code interpretation: pd.read_csv says \"pandas read covid_1.csv extension\". This helps to create a pandas dataframe for the covid data."
   ]
  },
  {
   "cell_type": "code",
   "execution_count": 62,
   "id": "8e00ada1",
   "metadata": {},
   "outputs": [],
   "source": [
    "df = pd.read_csv(\"covid_1.csv\")"
   ]
  },
  {
   "cell_type": "markdown",
   "id": "0f4f545a-115e-4670-bdd7-a001e3ff6b97",
   "metadata": {},
   "source": [
    "(d) After runining the code in step (iii) above, it will be noticed that it's as if nothing has happend (because no output was returned). The successful reading of the csv file was checked by using the 'df.info()' function to check the metadata of the covid_1.csv. The output confirms that pandas has correctly read the covid_1.csv file if it does not return an error."
   ]
  },
  {
   "cell_type": "code",
   "execution_count": 63,
   "id": "1c739d54",
   "metadata": {},
   "outputs": [
    {
     "name": "stdout",
     "output_type": "stream",
     "text": [
      "<class 'pandas.core.frame.DataFrame'>\n",
      "RangeIndex: 158 entries, 0 to 157\n",
      "Data columns (total 3 columns):\n",
      " #   Column      Non-Null Count  Dtype  \n",
      "---  ------      --------------  -----  \n",
      " 0   1           158 non-null    int64  \n",
      " 1   0.00067309  158 non-null    float64\n",
      " 2   0.0003806   158 non-null    float64\n",
      "dtypes: float64(2), int64(1)\n",
      "memory usage: 3.8 KB\n"
     ]
    }
   ],
   "source": [
    "df.info()"
   ]
  },
  {
   "cell_type": "markdown",
   "id": "73f47cd7-bebd-4249-b246-ae057a227895",
   "metadata": {},
   "source": [
    "The interpretation of the above verified information (metadata) about the dataset are:\n",
    "\n",
    "1. RangeIndex: 158 entries, 0 to 157: There are 158 entries (rows) taking the index number starting from 0 to 157 which has no null entries (no empty cell).\n",
    "\n",
    "2. There are 3 columns with 2 columns having float as the data type while the last one has integer data type"
   ]
  },
  {
   "cell_type": "markdown",
   "id": "f3203706-3b6e-4f56-8355-dcb8710df1d1",
   "metadata": {},
   "source": [
    "(e) The code below i.e df.head(10) was used to command dataframe to read the return the top ten rows of the dataset "
   ]
  },
  {
   "cell_type": "code",
   "execution_count": 64,
   "id": "ed97820b",
   "metadata": {},
   "outputs": [
    {
     "data": {
      "text/html": [
       "<div>\n",
       "<style scoped>\n",
       "    .dataframe tbody tr th:only-of-type {\n",
       "        vertical-align: middle;\n",
       "    }\n",
       "\n",
       "    .dataframe tbody tr th {\n",
       "        vertical-align: top;\n",
       "    }\n",
       "\n",
       "    .dataframe thead th {\n",
       "        text-align: right;\n",
       "    }\n",
       "</style>\n",
       "<table border=\"1\" class=\"dataframe\">\n",
       "  <thead>\n",
       "    <tr style=\"text-align: right;\">\n",
       "      <th></th>\n",
       "      <th>1</th>\n",
       "      <th>0.00067309</th>\n",
       "      <th>0.0003806</th>\n",
       "    </tr>\n",
       "  </thead>\n",
       "  <tbody>\n",
       "    <tr>\n",
       "      <th>0</th>\n",
       "      <td>2</td>\n",
       "      <td>0.000696</td>\n",
       "      <td>0.000414</td>\n",
       "    </tr>\n",
       "    <tr>\n",
       "      <th>1</th>\n",
       "      <td>3</td>\n",
       "      <td>0.000720</td>\n",
       "      <td>0.000449</td>\n",
       "    </tr>\n",
       "    <tr>\n",
       "      <th>2</th>\n",
       "      <td>4</td>\n",
       "      <td>0.000746</td>\n",
       "      <td>0.000484</td>\n",
       "    </tr>\n",
       "    <tr>\n",
       "      <th>3</th>\n",
       "      <td>5</td>\n",
       "      <td>0.000775</td>\n",
       "      <td>0.000527</td>\n",
       "    </tr>\n",
       "    <tr>\n",
       "      <th>4</th>\n",
       "      <td>6</td>\n",
       "      <td>0.000807</td>\n",
       "      <td>0.000572</td>\n",
       "    </tr>\n",
       "    <tr>\n",
       "      <th>5</th>\n",
       "      <td>7</td>\n",
       "      <td>0.000843</td>\n",
       "      <td>0.000624</td>\n",
       "    </tr>\n",
       "    <tr>\n",
       "      <th>6</th>\n",
       "      <td>8</td>\n",
       "      <td>0.000886</td>\n",
       "      <td>0.000678</td>\n",
       "    </tr>\n",
       "    <tr>\n",
       "      <th>7</th>\n",
       "      <td>9</td>\n",
       "      <td>0.000937</td>\n",
       "      <td>0.000741</td>\n",
       "    </tr>\n",
       "    <tr>\n",
       "      <th>8</th>\n",
       "      <td>10</td>\n",
       "      <td>0.000995</td>\n",
       "      <td>0.000809</td>\n",
       "    </tr>\n",
       "    <tr>\n",
       "      <th>9</th>\n",
       "      <td>11</td>\n",
       "      <td>0.001064</td>\n",
       "      <td>0.000888</td>\n",
       "    </tr>\n",
       "  </tbody>\n",
       "</table>\n",
       "</div>"
      ],
      "text/plain": [
       "    1  0.00067309  0.0003806\n",
       "0   2    0.000696   0.000414\n",
       "1   3    0.000720   0.000449\n",
       "2   4    0.000746   0.000484\n",
       "3   5    0.000775   0.000527\n",
       "4   6    0.000807   0.000572\n",
       "5   7    0.000843   0.000624\n",
       "6   8    0.000886   0.000678\n",
       "7   9    0.000937   0.000741\n",
       "8  10    0.000995   0.000809\n",
       "9  11    0.001064   0.000888"
      ]
     },
     "execution_count": 64,
     "metadata": {},
     "output_type": "execute_result"
    }
   ],
   "source": [
    "df.head(10)"
   ]
  },
  {
   "cell_type": "markdown",
   "id": "9f9ed20d-04ab-4ddd-9d88-e924b76cc845",
   "metadata": {},
   "source": [
    "(f) Just like df.head(10) returned top ten rows, df.tail(10) also returns the bottom ten rows. Thiese two codes helps to affirm that all the data were returned without any row being truncated."
   ]
  },
  {
   "cell_type": "code",
   "execution_count": 65,
   "id": "29674500",
   "metadata": {},
   "outputs": [
    {
     "data": {
      "text/html": [
       "<div>\n",
       "<style scoped>\n",
       "    .dataframe tbody tr th:only-of-type {\n",
       "        vertical-align: middle;\n",
       "    }\n",
       "\n",
       "    .dataframe tbody tr th {\n",
       "        vertical-align: top;\n",
       "    }\n",
       "\n",
       "    .dataframe thead th {\n",
       "        text-align: right;\n",
       "    }\n",
       "</style>\n",
       "<table border=\"1\" class=\"dataframe\">\n",
       "  <thead>\n",
       "    <tr style=\"text-align: right;\">\n",
       "      <th></th>\n",
       "      <th>1</th>\n",
       "      <th>0.00067309</th>\n",
       "      <th>0.0003806</th>\n",
       "    </tr>\n",
       "  </thead>\n",
       "  <tbody>\n",
       "    <tr>\n",
       "      <th>148</th>\n",
       "      <td>150</td>\n",
       "      <td>0.014304</td>\n",
       "      <td>0.018622</td>\n",
       "    </tr>\n",
       "    <tr>\n",
       "      <th>149</th>\n",
       "      <td>151</td>\n",
       "      <td>0.013918</td>\n",
       "      <td>0.017867</td>\n",
       "    </tr>\n",
       "    <tr>\n",
       "      <th>150</th>\n",
       "      <td>152</td>\n",
       "      <td>0.013545</td>\n",
       "      <td>0.017095</td>\n",
       "    </tr>\n",
       "    <tr>\n",
       "      <th>151</th>\n",
       "      <td>153</td>\n",
       "      <td>0.013191</td>\n",
       "      <td>0.016297</td>\n",
       "    </tr>\n",
       "    <tr>\n",
       "      <th>152</th>\n",
       "      <td>154</td>\n",
       "      <td>0.012863</td>\n",
       "      <td>0.015485</td>\n",
       "    </tr>\n",
       "    <tr>\n",
       "      <th>153</th>\n",
       "      <td>155</td>\n",
       "      <td>0.012560</td>\n",
       "      <td>0.014691</td>\n",
       "    </tr>\n",
       "    <tr>\n",
       "      <th>154</th>\n",
       "      <td>156</td>\n",
       "      <td>0.012263</td>\n",
       "      <td>0.013905</td>\n",
       "    </tr>\n",
       "    <tr>\n",
       "      <th>155</th>\n",
       "      <td>157</td>\n",
       "      <td>0.011978</td>\n",
       "      <td>0.013141</td>\n",
       "    </tr>\n",
       "    <tr>\n",
       "      <th>156</th>\n",
       "      <td>158</td>\n",
       "      <td>0.011700</td>\n",
       "      <td>0.012447</td>\n",
       "    </tr>\n",
       "    <tr>\n",
       "      <th>157</th>\n",
       "      <td>159</td>\n",
       "      <td>0.011435</td>\n",
       "      <td>0.011755</td>\n",
       "    </tr>\n",
       "  </tbody>\n",
       "</table>\n",
       "</div>"
      ],
      "text/plain": [
       "       1  0.00067309  0.0003806\n",
       "148  150    0.014304   0.018622\n",
       "149  151    0.013918   0.017867\n",
       "150  152    0.013545   0.017095\n",
       "151  153    0.013191   0.016297\n",
       "152  154    0.012863   0.015485\n",
       "153  155    0.012560   0.014691\n",
       "154  156    0.012263   0.013905\n",
       "155  157    0.011978   0.013141\n",
       "156  158    0.011700   0.012447\n",
       "157  159    0.011435   0.011755"
      ]
     },
     "execution_count": 65,
     "metadata": {},
     "output_type": "execute_result"
    }
   ],
   "source": [
    "df.tail(10)"
   ]
  },
  {
   "cell_type": "markdown",
   "id": "f0654b1c-ad87-4072-88c2-70d2c26a8cb1",
   "metadata": {},
   "source": [
    "g. The robustness of python dataframe permits users to run some descriptive statistics. This can be done by using one of the pandas dataframe in-built functions i.e 'df.describe()'. This code returns all the major statistical measures relating to the entire dataset. "
   ]
  },
  {
   "cell_type": "code",
   "execution_count": 66,
   "id": "3b89abd6-5bc5-4da1-9cc5-e0b734d2288a",
   "metadata": {},
   "outputs": [
    {
     "data": {
      "text/html": [
       "<div>\n",
       "<style scoped>\n",
       "    .dataframe tbody tr th:only-of-type {\n",
       "        vertical-align: middle;\n",
       "    }\n",
       "\n",
       "    .dataframe tbody tr th {\n",
       "        vertical-align: top;\n",
       "    }\n",
       "\n",
       "    .dataframe thead th {\n",
       "        text-align: right;\n",
       "    }\n",
       "</style>\n",
       "<table border=\"1\" class=\"dataframe\">\n",
       "  <thead>\n",
       "    <tr style=\"text-align: right;\">\n",
       "      <th></th>\n",
       "      <th>1</th>\n",
       "      <th>0.00067309</th>\n",
       "      <th>0.0003806</th>\n",
       "    </tr>\n",
       "  </thead>\n",
       "  <tbody>\n",
       "    <tr>\n",
       "      <th>count</th>\n",
       "      <td>158.000000</td>\n",
       "      <td>158.000000</td>\n",
       "      <td>158.000000</td>\n",
       "    </tr>\n",
       "    <tr>\n",
       "      <th>mean</th>\n",
       "      <td>80.500000</td>\n",
       "      <td>0.009439</td>\n",
       "      <td>0.012779</td>\n",
       "    </tr>\n",
       "    <tr>\n",
       "      <th>std</th>\n",
       "      <td>45.754781</td>\n",
       "      <td>0.005514</td>\n",
       "      <td>0.007603</td>\n",
       "    </tr>\n",
       "    <tr>\n",
       "      <th>min</th>\n",
       "      <td>2.000000</td>\n",
       "      <td>0.000696</td>\n",
       "      <td>0.000414</td>\n",
       "    </tr>\n",
       "    <tr>\n",
       "      <th>25%</th>\n",
       "      <td>41.250000</td>\n",
       "      <td>0.005688</td>\n",
       "      <td>0.007028</td>\n",
       "    </tr>\n",
       "    <tr>\n",
       "      <th>50%</th>\n",
       "      <td>80.500000</td>\n",
       "      <td>0.008524</td>\n",
       "      <td>0.012666</td>\n",
       "    </tr>\n",
       "    <tr>\n",
       "      <th>75%</th>\n",
       "      <td>119.750000</td>\n",
       "      <td>0.013676</td>\n",
       "      <td>0.018399</td>\n",
       "    </tr>\n",
       "    <tr>\n",
       "      <th>max</th>\n",
       "      <td>159.000000</td>\n",
       "      <td>0.019054</td>\n",
       "      <td>0.026756</td>\n",
       "    </tr>\n",
       "  </tbody>\n",
       "</table>\n",
       "</div>"
      ],
      "text/plain": [
       "                1  0.00067309   0.0003806\n",
       "count  158.000000  158.000000  158.000000\n",
       "mean    80.500000    0.009439    0.012779\n",
       "std     45.754781    0.005514    0.007603\n",
       "min      2.000000    0.000696    0.000414\n",
       "25%     41.250000    0.005688    0.007028\n",
       "50%     80.500000    0.008524    0.012666\n",
       "75%    119.750000    0.013676    0.018399\n",
       "max    159.000000    0.019054    0.026756"
      ]
     },
     "execution_count": 66,
     "metadata": {},
     "output_type": "execute_result"
    }
   ],
   "source": [
    "df.describe()"
   ]
  },
  {
   "cell_type": "markdown",
   "id": "45c51aee-3876-48c6-976b-5aee20201e82",
   "metadata": {},
   "source": [
    "The above output describes the statistical measures of the entire dataset in the dataframe. Below is a brief description of each of the measures:\n",
    "\n",
    "a. count: Means that there are 158 data points (rows) in each of the column\n",
    "\n",
    "b. mean: Is the average of the data in each of the column\n",
    "\n",
    "c. std: Is the standard deviation for each of the column\n",
    "\n",
    "d. min: Returns the minimum value in each of the column of the dataset\n",
    "\n",
    "e. 25%: It is pronounced 25th percentile. Each column have 25 precent of the values less than or equal to 41.25, 0.005688 and 0.007028 for each of the data.\n",
    "\n",
    "f. 50%:It's pronounced 50th percentile. It means that 50% of the dataset in each column have the values 80.5, 0.008524, and 0.012666 which means that 50% of the dataset are less than or equal to 80.5, 0.008524, and 0.012666. This is the same as measuring the median.\n",
    "\n",
    "g. 75%: It's pronounced 75th percentile. It means that 75% of the dataset in each column have the values 119.75, 0.0013676, and 0.0118399 which constitutes 75% of the dataset are less than or equal to 119.75, 0.0013676, and 0.0118399.\n",
    "\n",
    "h. max: Returns the maximum within the dataset in each column. Stackoverflow, 2020"
   ]
  },
  {
   "cell_type": "markdown",
   "id": "058723bd-44f7-40f5-a125-4c6cdfac7443",
   "metadata": {},
   "source": [
    "3.1.2 TASK 1(b): MAKING A TUTORIAL TO EXPLAIN THE MAAPTLOTLIB CODE FOR VISUALIZATION\n",
    "\n",
    "The next step in task 1 of activity 5.2 is visualization of the dataset. Data visualization is a way of presenting dataset pictorially, it helps to find trends and actionable insights from a dataset. Python have some data visualization modules which can be explored to make the data more visually appealing to project pre-defined key performance indicators at a glance. Some of these in built libraries are Matplotlib Seaborn, Plotnine(ggplot), Bokeh, pygal, Plotly, geoplotlib, Gleam, missingno, Leather, Altair, Folium etc. M Blog, 2022\n",
    "\n",
    "In this activity, some of these libraries was used to demonstrate the robustness of the python data visualization libraries.\n",
    "\n",
    "Below are the steps invloved in converting the dataset to visualization using the python matplotlib libraries:\n",
    "\n",
    "a. 'import csv': This was used to import the stored covid_1.csv data for matplotlib to have it handy for visualization. If this was not done, matplotlib will not have a data to reference which may result in error from the code. \n",
    "\n",
    "b. This was followed by specifying the data source for the library pyplot to reference the variable where the data was stored i.e variable named data"
   ]
  },
  {
   "cell_type": "code",
   "execution_count": 2,
   "id": "f3a7de3d-885c-41ee-b325-8286e1e412ab",
   "metadata": {},
   "outputs": [
    {
     "data": {
      "text/html": [
       "<div>\n",
       "<style scoped>\n",
       "    .dataframe tbody tr th:only-of-type {\n",
       "        vertical-align: middle;\n",
       "    }\n",
       "\n",
       "    .dataframe tbody tr th {\n",
       "        vertical-align: top;\n",
       "    }\n",
       "\n",
       "    .dataframe thead th {\n",
       "        text-align: right;\n",
       "    }\n",
       "</style>\n",
       "<table border=\"1\" class=\"dataframe\">\n",
       "  <thead>\n",
       "    <tr style=\"text-align: right;\">\n",
       "      <th></th>\n",
       "      <th>1</th>\n",
       "      <th>0.00067309</th>\n",
       "      <th>0.0003806</th>\n",
       "    </tr>\n",
       "  </thead>\n",
       "  <tbody>\n",
       "    <tr>\n",
       "      <th>1</th>\n",
       "      <td>1.000000</td>\n",
       "      <td>0.886959</td>\n",
       "      <td>0.882431</td>\n",
       "    </tr>\n",
       "    <tr>\n",
       "      <th>0.00067309</th>\n",
       "      <td>0.886959</td>\n",
       "      <td>1.000000</td>\n",
       "      <td>0.982247</td>\n",
       "    </tr>\n",
       "    <tr>\n",
       "      <th>0.0003806</th>\n",
       "      <td>0.882431</td>\n",
       "      <td>0.982247</td>\n",
       "      <td>1.000000</td>\n",
       "    </tr>\n",
       "  </tbody>\n",
       "</table>\n",
       "</div>"
      ],
      "text/plain": [
       "                   1  0.00067309  0.0003806\n",
       "1           1.000000    0.886959   0.882431\n",
       "0.00067309  0.886959    1.000000   0.982247\n",
       "0.0003806   0.882431    0.982247   1.000000"
      ]
     },
     "execution_count": 2,
     "metadata": {},
     "output_type": "execute_result"
    }
   ],
   "source": [
    "import pandas as pd\n",
    "df = pd.read_csv(\"covid_1.csv\")\n",
    "df.corr()"
   ]
  },
  {
   "cell_type": "code",
   "execution_count": 67,
   "id": "e2de9f95",
   "metadata": {},
   "outputs": [],
   "source": [
    "import csv"
   ]
  },
  {
   "cell_type": "code",
   "execution_count": 68,
   "id": "06f94de8",
   "metadata": {},
   "outputs": [],
   "source": [
    "data = df"
   ]
  },
  {
   "cell_type": "markdown",
   "id": "744046b4-f1db-48ae-aa04-5621d54161e7",
   "metadata": {},
   "source": [
    "3.1.3 Task2 REFORMATING THE CODE TO ALIGN WITHT THE RIGHT INDENTING\n",
    "\n",
    "Then, pyplot was imported from matplotlib: pyplot was used to plot line graph for the data. Matplotlib is useful for basic graph plotting like line charts,  bar graphs, etc\n",
    "\n",
    "data1[], data2[], and data0[] were variables for each of the columns in the dataset\n",
    "\n",
    "'with open' is a python library which has the 'r' string which is used to read only the file 'covid_1.csv'\n",
    "\n",
    "'reader = csv.reader(file): was a command that uses the function reader to read the 'covid_1.csv' file\n",
    "\n",
    "The data from columns 1 and 2 (which has the float data type) were appended to variables named 'data1' and 'data2' while the dataset from column 0 (which have integer data type) was appended to a variable named 'data0'. The reading of the file was closed by using 'file.close()'.\n",
    "\n",
    "plt.plot(data0,data1) and plt.plot(data0,data2) were commands used to plot dataset in the variable data0 against each of the other dataset in variables data1 and data2.\n",
    "\n",
    "plt.show(): was used to command the showing of the plotted line graphs."
   ]
  },
  {
   "cell_type": "code",
   "execution_count": 69,
   "id": "80a1293b",
   "metadata": {},
   "outputs": [
    {
     "data": {
      "image/png": "[encoded data removed]",
      "text/plain": [
       "<Figure size 432x288 with 1 Axes>"
      ]
     },
     "metadata": {
      "needs_background": "light"
     },
     "output_type": "display_data"
    }
   ],
   "source": [
    "from matplotlib import pyplot as plt\n",
    "data1=[]\n",
    "data2= []\n",
    "data0= []\n",
    "with open('covid_1.csv', 'r') as file:\n",
    "    reader = csv.reader(file)\n",
    "    for row in reader:\n",
    "        data1.append(float(row[1]))\n",
    "        data2.append(float(row[2]))\n",
    "        data0.append(int(row[0]))\n",
    "file.close()\n",
    "plt.plot(data0,data1)\n",
    "plt.plot(data0,data2)\n",
    "plt.show()"
   ]
  },
  {
   "cell_type": "markdown",
   "id": "fbb624b2-428e-4534-b1b1-3664ef84ccf7",
   "metadata": {},
   "source": [
    "3.1.4 Task 3: BREAKING THE CODE UP INTO CHUNKS TO EXPLAIN WHAT IS HAPPENING AND WHAT THE CODE DOES.\n",
    "\n",
    "Below is the explanation of what is happening and what each of the code line does.\n",
    "\n",
    "a. code line 1: 'from matplotlib import pyplot as plt': this code imports the function needed to prepare jupyter notebook for visualization\n",
    "\n",
    "b. code line 2: 'data1=[]': variable data1 was created to store data (list) from column 1\n",
    "\n",
    "c. code line 3: 'data2'= []: variable data1 was created to store data (list) from column 2\n",
    "\n",
    "d. code line 4: 'data0= []': variable data1 was created to store data (list) from column 0\n",
    "\n",
    "e. code line 5: 'with open('covid_1.csv', 'r') as file':'with open' is a python function which has the 'r' string which is used to read only the file stored i.e 'covid_1.csv'\n",
    "\n",
    "f.   reader = csv.reader(file): command by reader to read the csv file\n",
    "\n",
    "for row in reader:\n",
    "        data1.append(float(row[1])): append command was used to add the data from row 1 of float data type\n",
    "        data2.append(float(row[2])): append command was used to add the data from row 2 of float data type\n",
    "        data0.append(int(row[0])): append command was used to add the data from row 0 of integer data type\n",
    "\n",
    "g. file.close(): after appending, the command reader was closed\n",
    "\n",
    "h. plt.plot(data0,data1):a command to plot data0 against data1 as a line graph\n",
    "\n",
    "i. plt.plot(data0,data2): a command to plot data0 against data2 as a line graph\n",
    "\n",
    "j. plt.show(): a command to show the line graph"
   ]
  },
  {
   "cell_type": "markdown",
   "id": "a18bbca0-9ceb-4db5-ab56-3d13dccc5f89",
   "metadata": {},
   "source": [
    "3.1.5 Task 1(e)\n",
    "\n",
    "REFINING THE NOTEBOOK ON THE TASK 1 OF ACTIVITY 5.2: \n",
    "\n",
    "The aim of refining the notebook was to fashion out how to communicate what is going on the Task 1 of activity 5.2\n",
    "\n",
    "Summarily, what task 1 is all about is how to store a csv file in jupyter notebook, reading the file using the python pandas dataframe, manipulating the data by creating variables which contains a list extracted from the stored csv file and plotting line graphs of different shapes and colours using the pyplot function from the mapplotlib library. It also includes showing the plotted line graph."
   ]
  },
  {
   "cell_type": "markdown",
   "id": "409a5380-26ea-4695-9ab7-68952e87a267",
   "metadata": {},
   "source": [
    "3.2 \n",
    "\n",
    "TASK 2: REPLACING THE LINES MARKED WITH # BELOW WITH LINES OF CODES NOT MARKED WITH #\n",
    "\n",
    "(i) The task in this first step was to replace the lines marked with # in the code below with lines of code not marked with #. This is needed because the lines of code cannot be run for python operation until it is corrected by removing the comment out sign (#) and putting the code lines in the corrent indent.\n",
    "\n",
    "#plt.plot(data0,data1)#plt.plot(data0,data2)plt.plot(data0, data1,'ro',data0,data2,'b.-')plt.show()"
   ]
  },
  {
   "cell_type": "code",
   "execution_count": 70,
   "id": "349c3a59-60d1-45fa-a94e-d86680730010",
   "metadata": {},
   "outputs": [
    {
     "data": {
      "image/png": "[encoded data removed]",
      "text/plain": [
       "<Figure size 432x288 with 1 Axes>"
      ]
     },
     "metadata": {
      "needs_background": "light"
     },
     "output_type": "display_data"
    }
   ],
   "source": [
    "plt.plot(data0,data1)\n",
    "plt.plot(data0,data2)\n",
    "plt.plot(data0, data1,'ro',data0,data2,'b.-')\n",
    "plt.show()"
   ]
  },
  {
   "cell_type": "markdown",
   "id": "1a83a5a4-2e85-4b27-a4a5-8211eff5a1d1",
   "metadata": {},
   "source": [
    "3.2.1\n",
    "(iii) EXPERIMENTING WITH DIFFERENT  PARAMETERS IN THE ' '(i.e CHARACTER STRINGS) SECTIONS OF THE CODE.\n",
    "\n",
    "In the previous task above, the line of codes were corrected by eliminating the # in the code. In this task, the description of what the new line of code does, replacing and exploring with different character strings and explaining what each character strings is meant to achieve in the line of codes are of importance.\n",
    "\n",
    "The new line of code in this case is: plt.plot(data0, data1,'ro',data0,data2,'b.-') with the adiitions of charactier strings 'ro' and 'b.-'\n",
    "\n",
    "The line graph that was plotted in Task 1 (ii) was further enhanced by adding a third argument to each of the codes for the line graphs. Character strings in python are used to specify the characateristics of the line graphs. \n",
    "\n",
    "In the line graphs' codes, the third arguments 'ro' is specifying that the first line graph (data0 plotted against data1) should be 'a red solid coloured line graph with circle', while 'b.-' is specifying that the second line graph (data0 plotted against data2) should be 'a blue solid coloured line graph with circle'."
   ]
  },
  {
   "cell_type": "code",
   "execution_count": 71,
   "id": "aa85254e",
   "metadata": {},
   "outputs": [
    {
     "data": {
      "image/png": "[encoded data removed]",
      "text/plain": [
       "<Figure size 432x288 with 1 Axes>"
      ]
     },
     "metadata": {
      "needs_background": "light"
     },
     "output_type": "display_data"
    }
   ],
   "source": [
    "plt.plot(data0, data1,'ro',data0,data2,'b.-')\n",
    "plt.show()"
   ]
  },
  {
   "cell_type": "markdown",
   "id": "0a5b5041-cc2b-44c2-a27f-6788177b0a4e",
   "metadata": {},
   "source": [
    "As required in this section of the project, further research reveals that various line graph types can be achieved by applying different plot symbols and colors while plotting with plot(X,Y,S) where S is a character string made from one element from any or all the following 3 columns:\n",
    "\n",
    "             b     blue          .     point              -     solid\n",
    "             g     green         o     circle             :     dotted\n",
    "             r     red           x     x-mark             -.    dashdot \n",
    "             c     cyan          +     plus               --    dashed   \n",
    "             m     magenta       *     star             (none)  no line\n",
    "             y     yellow        s     square\n",
    "             k     black         d     diamond\n",
    "             w     white         v     triangle (down)\n",
    "                                 ^     triangle (up)\n",
    "                                 <     triangle (left)\n",
    "                                 >     triangle (right)\n",
    "                                 p     pentagram\n",
    "                                 h     hexagram \n",
    "                                 \n",
    "                                 John, 2016.\n",
    "                                 \n",
    "For example, as stated in the activity 5.2 Task 2 (iii): Experiment with different parameters in the ' ' sections of the line, change colours and shapes, some line graphs are shown below with a combination of some character strings beyond what was taught in the class seesions."
   ]
  },
  {
   "cell_type": "markdown",
   "id": "7e0a6bdd-cb3e-47c7-99ab-b4d07af23ca5",
   "metadata": {},
   "source": [
    " a. Plotting line graphs that have red colour with x mark and yellow colour with dashed lines."
   ]
  },
  {
   "cell_type": "code",
   "execution_count": 72,
   "id": "d807bb91-a278-4089-9754-91a7df3f9873",
   "metadata": {},
   "outputs": [
    {
     "data": {
      "image/png": "[encoded data removed]",
      "text/plain": [
       "<Figure size 432x288 with 1 Axes>"
      ]
     },
     "metadata": {
      "needs_background": "light"
     },
     "output_type": "display_data"
    }
   ],
   "source": [
    "plt.plot(data0, data1,'r+',data0,data2,'y--')\n",
    "plt.show()"
   ]
  },
  {
   "cell_type": "markdown",
   "id": "4442c9bd-9127-4b50-a133-ae68eef1464b",
   "metadata": {},
   "source": [
    "b. Plotting line graphs that have green colour with + mark and black colour with * shaped lines."
   ]
  },
  {
   "cell_type": "code",
   "execution_count": 73,
   "id": "0be29c82-50a9-45a0-a66f-d788c80ad35c",
   "metadata": {},
   "outputs": [
    {
     "data": {
      "image/png": "[encoded data removed]",
      "text/plain": [
       "<Figure size 432x288 with 1 Axes>"
      ]
     },
     "metadata": {
      "needs_background": "light"
     },
     "output_type": "display_data"
    }
   ],
   "source": [
    "plt.plot(data0, data1,'k*',data0,data2,'g+')\n",
    "plt.show()"
   ]
  },
  {
   "cell_type": "markdown",
   "id": "651a6ece-7cdc-4bdd-9ef4-93ef23e7dca6",
   "metadata": {},
   "source": [
    "c. Plotting line graphs that have black colour with * mark and cyan colour with square shaped lines."
   ]
  },
  {
   "cell_type": "code",
   "execution_count": 74,
   "id": "82a9e968-cd80-4e3e-a183-b9817d918474",
   "metadata": {},
   "outputs": [
    {
     "data": {
      "image/png": "[encoded data removed]",
      "text/plain": [
       "<Figure size 432x288 with 1 Axes>"
      ]
     },
     "metadata": {
      "needs_background": "light"
     },
     "output_type": "display_data"
    }
   ],
   "source": [
    "plt.plot(data0, data1,'k*',data0,data2,'ms')\n",
    "plt.show()"
   ]
  },
  {
   "cell_type": "markdown",
   "id": "06821359-e51a-4e44-937e-291e766dba93",
   "metadata": {},
   "source": [
    "d. Plotting line graphs that have red colour with square mark and yellow colour with square shaped lines."
   ]
  },
  {
   "cell_type": "code",
   "execution_count": 75,
   "id": "b9db65a6-9719-4722-8ad5-ad1aab39dfdc",
   "metadata": {},
   "outputs": [
    {
     "data": {
      "image/png": "[encoded data removed]",
      "text/plain": [
       "<Figure size 432x288 with 1 Axes>"
      ]
     },
     "metadata": {
      "needs_background": "light"
     },
     "output_type": "display_data"
    }
   ],
   "source": [
    "plt.plot(data0, data1,'rd',data0,data2,'yd')\n",
    "plt.show()"
   ]
  },
  {
   "cell_type": "markdown",
   "id": "9166c5bf-4b3b-4600-bd49-a3bbbe96ea7e",
   "metadata": {},
   "source": [
    "3.2.2 ADDING AXES LABELS AND TITLE TO THE PLOTS\n",
    "\n",
    "This step is about allocating labels to each of the columns (i.e the axes on the line graphs). The in-built functions of pyplot i.e xlabel() and ylabel() functions makes it possible to set a label for the x- and y-axes.\n",
    "\n",
    "This was done by specifying the column names and added a title to the graph. \n",
    "\n",
    "The title for the graph is 'Infection rates'. The y axis on which data1 and data2 were plotted was labelled as 'People infected' while the x axis on which data0 was plotted was labelled as 'Days'."
   ]
  },
  {
   "cell_type": "code",
   "execution_count": 76,
   "id": "94b57c1f",
   "metadata": {},
   "outputs": [
    {
     "data": {
      "image/png": "[encoded data removed]",
      "text/plain": [
       "<Figure size 432x288 with 1 Axes>"
      ]
     },
     "metadata": {
      "needs_background": "light"
     },
     "output_type": "display_data"
    }
   ],
   "source": [
    "plt.plot(data0, data1,'ro',data0,data2,'b.-')\n",
    "plt.xlabel(\"Days\")\n",
    "plt.ylabel(\"People infected\")\n",
    "plt.title(\"Infection rates\")\n",
    "plt.show()"
   ]
  },
  {
   "cell_type": "markdown",
   "id": "0cf76147-2376-45f3-9350-9dd973cd039e",
   "metadata": {},
   "source": [
    "3.2.3 EXPERIMENTING WITH DIFFERENT STYLES OF LINE GRAPHS\n",
    "\n",
    "In this exercise, https://www.w3schools.com/python/matplotlib_line.asp was used as a reference source to experiment with different styles of line grpahs.\n",
    "\n",
    "In addition to the above source, below is an additional reference which itemise the list of different character string that can be used to experiment with different styles of line graphs.\n",
    "\n",
    "As required in this section of the project, further research reveals that various line graph types can be achieved by applying different plot symbols and colors while plotting with plot(X,Y,S) where S is a character string made from one element from any or all the following 3 columns:\n",
    "\n",
    "             b     blue          .     point              -     solid\n",
    "             g     green         o     circle             :     dotted\n",
    "             r     red           x     x-mark             -.    dashdot \n",
    "             c     cyan          +     plus               --    dashed   \n",
    "             m     magenta       *     star             (none)  no line\n",
    "             y     yellow        s     square\n",
    "             k     black         d     diamond\n",
    "             w     white         v     triangle (down)\n",
    "                                 ^     triangle (up)\n",
    "                                 <     triangle (left)\n",
    "                                 >     triangle (right)\n",
    "                                 p     pentagram\n",
    "                                 h     hexagram \n",
    "                                 \n",
    "                                 John, 2016.\n",
    "                                 \n",
    "For example, as stated in the activity 5.2 Task 2 (iii): Experiment with different parameters in the ' ' sections of the line, change colours and shapes, some line graphs are shown below with a combination of some character strings beyond what was taught in the class seesions."
   ]
  },
  {
   "cell_type": "markdown",
   "id": "29966690-b0b3-40a0-b65c-e99c630e57cd",
   "metadata": {},
   "source": [
    "a. Creating line graphs with dotted lines"
   ]
  },
  {
   "cell_type": "code",
   "execution_count": 77,
   "id": "9429b7aa-4cc6-4e27-8488-a7cf9cb88eec",
   "metadata": {},
   "outputs": [
    {
     "data": {
      "image/png": "[encoded data removed]",
      "text/plain": [
       "<Figure size 432x288 with 1 Axes>"
      ]
     },
     "metadata": {
      "needs_background": "light"
     },
     "output_type": "display_data"
    }
   ],
   "source": [
    "plt.plot(data0, data1, data0, data2, linestyle = 'dotted')\n",
    "plt.xlabel(\"Days\")\n",
    "plt.ylabel(\"People infected\")\n",
    "plt.title(\"Infection rates\")\n",
    "plt.show()"
   ]
  },
  {
   "cell_type": "markdown",
   "id": "a98441c3-f927-4374-8cbc-349d787811b1",
   "metadata": {},
   "source": [
    "b. Creating line graphs with dashed lines"
   ]
  },
  {
   "cell_type": "code",
   "execution_count": 78,
   "id": "155f30f2-3897-4ad5-92a8-7ab860bb81a3",
   "metadata": {},
   "outputs": [
    {
     "data": {
      "image/png": "[encoded data removed]",
      "text/plain": [
       "<Figure size 432x288 with 1 Axes>"
      ]
     },
     "metadata": {
      "needs_background": "light"
     },
     "output_type": "display_data"
    }
   ],
   "source": [
    "plt.plot(data0, data1, data0, data2, ls = 'dashed')\n",
    "plt.xlabel(\"Days\")\n",
    "plt.ylabel(\"People infected\")\n",
    "plt.title(\"Infection rates\")\n",
    "plt.show()"
   ]
  },
  {
   "cell_type": "markdown",
   "id": "4497cf0e-9f2f-4cab-8f67-5fcee18e0c7e",
   "metadata": {},
   "source": [
    "c. Creating line graphs with a combination of dotted and dashed lines"
   ]
  },
  {
   "cell_type": "code",
   "execution_count": 79,
   "id": "89881b5f-a853-4076-81e6-3b8bd63af662",
   "metadata": {},
   "outputs": [
    {
     "data": {
      "image/png": "[encoded data removed]",
      "text/plain": [
       "<Figure size 432x288 with 1 Axes>"
      ]
     },
     "metadata": {
      "needs_background": "light"
     },
     "output_type": "display_data"
    }
   ],
   "source": [
    "plt.plot(data0, data1, data0, data2, ls = '-.')\n",
    "plt.xlabel(\"Days\")\n",
    "plt.ylabel(\"People infected\")\n",
    "plt.title(\"Infection rates\")\n",
    "plt.show()"
   ]
  },
  {
   "cell_type": "markdown",
   "id": "f8a99e5f-0a8d-46a7-9d8c-58e636108652",
   "metadata": {},
   "source": [
    "d. Creating line graphs not specifying type of line"
   ]
  },
  {
   "cell_type": "code",
   "execution_count": 80,
   "id": "ed57a9e6-08a3-4a9f-8386-8d6cc070728e",
   "metadata": {},
   "outputs": [
    {
     "data": {
      "image/png": "[encoded data removed]",
      "text/plain": [
       "<Figure size 432x288 with 1 Axes>"
      ]
     },
     "metadata": {
      "needs_background": "light"
     },
     "output_type": "display_data"
    }
   ],
   "source": [
    "plt.plot(data0, data1, data0, data2, ls = '')\n",
    "plt.xlabel(\"Days\")\n",
    "plt.ylabel(\"People infected\")\n",
    "plt.title(\"Infection rates\")\n",
    "plt.show()"
   ]
  },
  {
   "cell_type": "markdown",
   "id": "b460b22d-6e50-4523-88db-89325f9b9c10",
   "metadata": {},
   "source": [
    "e. Creating line graphs with solid lines"
   ]
  },
  {
   "cell_type": "code",
   "execution_count": 81,
   "id": "6cc5204e-7708-42c5-9e7d-00967a32efe7",
   "metadata": {},
   "outputs": [
    {
     "data": {
      "image/png": "[encoded data removed]",
      "text/plain": [
       "<Figure size 432x288 with 1 Axes>"
      ]
     },
     "metadata": {
      "needs_background": "light"
     },
     "output_type": "display_data"
    }
   ],
   "source": [
    "plt.plot(data0, data1, data0, data2, linestyle = 'solid')\n",
    "plt.xlabel(\"Days\")\n",
    "plt.ylabel(\"People infected\")\n",
    "plt.title(\"Infection rates\")\n",
    "plt.show()"
   ]
  },
  {
   "cell_type": "markdown",
   "id": "a1391f9a-5654-4b09-85f3-5e20462769b3",
   "metadata": {},
   "source": [
    "TASK 3: In this task, using https://www.w3schools.com/python/matplotlib_intro.asp as a reference and starting point and all the links to MATPLOTLIB in the left-hand column, more features were added to the graphs. For examples grids, markers and anything that are appropriate to make the graphs more informative.\n",
    "\n",
    "This task is all about matplotlib. Matplotlib is a low level graph plotting library in python that serves as a visualization utility."
   ]
  },
  {
   "cell_type": "markdown",
   "id": "9784bf87-97c1-4b45-8372-fb19db757e39",
   "metadata": {},
   "source": [
    "(i) Adding legend to the plot"
   ]
  },
  {
   "cell_type": "code",
   "execution_count": 82,
   "id": "a7074338-9cd8-49df-9603-08e8cc739b99",
   "metadata": {},
   "outputs": [
    {
     "data": {
      "image/png": "[encoded data removed]",
      "text/plain": [
       "<Figure size 432x288 with 1 Axes>"
      ]
     },
     "metadata": {
      "needs_background": "light"
     },
     "output_type": "display_data"
    }
   ],
   "source": [
    "plt.plot(data0, data1,'ro',data0,data2,'b.-', label='People infected')\n",
    "plt.xlabel(\"Days\")\n",
    "plt.ylabel(\"People infected\")\n",
    "plt.title(\"Infection rates\")\n",
    "plt.legend(loc = 'best')\n",
    "plt.show()"
   ]
  },
  {
   "cell_type": "markdown",
   "id": "cd1cbc32-5c8f-4d4b-9410-0db449a54954",
   "metadata": {},
   "source": [
    "(ii) Adding grid to the plot"
   ]
  },
  {
   "cell_type": "code",
   "execution_count": 83,
   "id": "41c8382f-927d-4199-a6d5-cfbc5eb6837a",
   "metadata": {},
   "outputs": [
    {
     "data": {
      "image/png": "[encoded data removed]",
      "text/plain": [
       "<Figure size 432x288 with 1 Axes>"
      ]
     },
     "metadata": {
      "needs_background": "light"
     },
     "output_type": "display_data"
    }
   ],
   "source": [
    "plt.plot(data0, data1,'ro',data0,data2,'b.-', label='People infected')\n",
    "plt.xlabel(\"Days\")\n",
    "plt.ylabel(\"People infected\")\n",
    "plt.title(\"Infection rates\")\n",
    "plt.legend(loc = 'best')\n",
    "plt.grid()\n",
    "plt.show()"
   ]
  },
  {
   "cell_type": "markdown",
   "id": "f33f2fc3-12a0-46cc-b6b6-730772f7872b",
   "metadata": {},
   "source": [
    "(iii) Adding marker to the plot"
   ]
  },
  {
   "cell_type": "code",
   "execution_count": 84,
   "id": "9a29331a-565a-4e9d-8bc4-a34a3f76014b",
   "metadata": {},
   "outputs": [
    {
     "data": {
      "image/png": "[encoded data removed]",
      "text/plain": [
       "<Figure size 432x288 with 1 Axes>"
      ]
     },
     "metadata": {
      "needs_background": "light"
     },
     "output_type": "display_data"
    }
   ],
   "source": [
    "plt.plot(data0, data1,'r',data0,data2,'b', label=\"People infected\")\n",
    "plt.xlabel(\"Days\")\n",
    "plt.ylabel(\"People infected\")\n",
    "plt.title(\"Infection rates\")\n",
    "plt.legend(loc = 'best')\n",
    "plt.grid()\n",
    "plt.plot(\"Days\", marker = '*')\n",
    "plt.show()"
   ]
  },
  {
   "cell_type": "markdown",
   "id": "e0414db7-3bfe-4e66-85ff-9673795e0ea7",
   "metadata": {},
   "source": [
    "3.3 TASK 4: NUMPY\n",
    "\n",
    "Another library named numpy was imported that is useful in data science is the numpy.\n",
    "\n",
    "What is Numpy: \"It is a Python library that provides a multidimensional array object, various derived objects (such as masked arrays and matrices), and an assortment of routines for fast operations on arrays, including mathematical, logical, shape manipulation, sorting, selecting, I/O, discrete Fourier transforms, basic linear algebra, basic statistical operations, random simulation and much more.\" Numpy 2008-2022.\n",
    "\n",
    "Numpy is basically known as Numerical python. It is the standard library for scientific computing in Python.\n",
    "\n",
    "Applying the Task 3 skills of plotting line graphs, numpy was used to plot another type of graph (in this case histogram)"
   ]
  },
  {
   "cell_type": "markdown",
   "id": "b3018373-ea71-4516-8dd2-6285a4e855c5",
   "metadata": {},
   "source": [
    "3.3.1 Cleaning of the code"
   ]
  },
  {
   "cell_type": "code",
   "execution_count": 85,
   "id": "f6e093d1",
   "metadata": {},
   "outputs": [
    {
     "data": {
      "image/png": "[encoded data removed]",
      "text/plain": [
       "<Figure size 432x288 with 1 Axes>"
      ]
     },
     "metadata": {
      "needs_background": "light"
     },
     "output_type": "display_data"
    }
   ],
   "source": [
    "import numpy as np\n",
    "from matplotlib import pyplot as plt\n",
    "npx = np.random.normal(170, 10, 250)\n",
    "plt.hist(npx)\n",
    "plt.show()"
   ]
  },
  {
   "cell_type": "markdown",
   "id": "1a366cdd-9452-45ea-a9c9-466e97c583bd",
   "metadata": {},
   "source": [
    "3.3.2 EXPLAINING THE CODE:\n",
    "\n",
    "import numpy as np: numpy was imported which is the library needed for numerical computation\n",
    "\n",
    "from matplotlib import pyplot as plt: for plotting of the graph\n",
    "\n",
    "npx = np.random.normal(170, 10, 250): npx is just a variable holding the data for plotting\n",
    "\n",
    "plt.hist(npx): command to plot the npx data as histogram\n",
    "\n",
    "plt.show(): command to show the histogram graph"
   ]
  },
  {
   "cell_type": "markdown",
   "id": "969cadbf-73f8-4fde-91e0-61fc20c50a3c",
   "metadata": {},
   "source": [
    "(ii) numpy is another module that is mostly used in data science (check https://www.w3schools.com/python/numpy/default.asp for details). Data can be plotted in arrays, probability distributions, etc. Applying some of the learnt in task 3, appropriate axes labels and grids were added to the graphs to make it much more understandable."
   ]
  },
  {
   "cell_type": "markdown",
   "id": "6d26a868-2696-4404-929b-bb333ef79dc0",
   "metadata": {},
   "source": [
    "3.3.3 APPLYING TASK 3 SKILLS: \n",
    "\n",
    "a. ADDING AXES LABELS AND TITLE"
   ]
  },
  {
   "cell_type": "code",
   "execution_count": 86,
   "id": "38e1a22f-158c-4b77-a871-cbb74d2e1a0c",
   "metadata": {},
   "outputs": [
    {
     "data": {
      "image/png": "[encoded data removed]",
      "text/plain": [
       "<Figure size 432x288 with 1 Axes>"
      ]
     },
     "metadata": {
      "needs_background": "light"
     },
     "output_type": "display_data"
    }
   ],
   "source": [
    "plt.hist(npx)\n",
    "plt.xlabel(\"Income in £'m\")\n",
    "plt.ylabel(\"Days\")\n",
    "plt.title(\"Distribution of Daily Income\")\n",
    "plt.show()"
   ]
  },
  {
   "cell_type": "markdown",
   "id": "89ff1787-c1b8-4cc9-ae62-3c79424ae4e3",
   "metadata": {},
   "source": [
    "a. ADDING GRID TO THE GRAPH"
   ]
  },
  {
   "cell_type": "code",
   "execution_count": 87,
   "id": "3f84e045-1e27-463e-9bdd-43e5d666e9e4",
   "metadata": {},
   "outputs": [
    {
     "data": {
      "image/png": "[encoded data removed]",
      "text/plain": [
       "<Figure size 432x288 with 1 Axes>"
      ]
     },
     "metadata": {
      "needs_background": "light"
     },
     "output_type": "display_data"
    }
   ],
   "source": [
    "plt.hist(npx)\n",
    "plt.xlabel(\"Income in £'m\")\n",
    "plt.ylabel(\"Days\")\n",
    "plt.title(\"Distribution of Daily Income\")\n",
    "plt.grid()\n",
    "plt.show()"
   ]
  },
  {
   "cell_type": "markdown",
   "id": "d5983cb6-70c2-491e-b021-9266c5b1831f",
   "metadata": {},
   "source": [
    "3.3.4 Extension of the Codes not Discussed in the Class\n",
    "\n",
    "Based on further research, below are some of the new plots that were discovered which was not part of the ones discussed or covered in the class session. This includes using the seaborn library (i.e sns.diplot()) to plot random distribution graph of the dataset."
   ]
  },
  {
   "cell_type": "code",
   "execution_count": 88,
   "id": "e44d55df-22d8-44b1-844e-2a64ca91a1ed",
   "metadata": {},
   "outputs": [
    {
     "data": {
      "image/png": "[encoded data removed]",
      "text/plain": [
       "<Figure size 360x360 with 1 Axes>"
      ]
     },
     "metadata": {
      "needs_background": "light"
     },
     "output_type": "display_data"
    }
   ],
   "source": [
    "import matplotlib.pyplot as plt\n",
    "import seaborn as sns\n",
    "\n",
    "sns.displot([170, 10, 250])\n",
    "plt.grid()\n",
    "plt.show()"
   ]
  },
  {
   "cell_type": "code",
   "execution_count": 89,
   "id": "2c6f21f5-5e53-4db6-8811-0c8bde394e5e",
   "metadata": {},
   "outputs": [
    {
     "data": {
      "image/png": "[encoded data removed]",
      "text/plain": [
       "<Figure size 432x288 with 1 Axes>"
      ]
     },
     "metadata": {
      "needs_background": "light"
     },
     "output_type": "display_data"
    }
   ],
   "source": [
    "sns.kdeplot([170, 10, 250], x=\"flipper_length_mm\", multiple=\"stack\")\n",
    "#Seaborn, Available from: https://seaborn.pydata.org/tutorial/function_overview.html\n",
    "plt.grid()\n",
    "plt.show()"
   ]
  },
  {
   "cell_type": "markdown",
   "id": "1e83b39e-70af-4f5a-8b75-064b78dd003f",
   "metadata": {},
   "source": [
    "4.0\n",
    "\n",
    "TASK 1 INTORDUCTION OF ACTIVITY 8 \n",
    "\n",
    "This part entails fetching current weather data from a particular website. This was achieved by going to a website (https://openweathermap.org/api/) to subscribe for free API.\n",
    "\n",
    "PROCESS OF REQUESTING FOR API\n",
    "\n",
    "a. Click on the website https://openweathermap.org/api/ which opens on a separate browser\n",
    "b. Subscribe for free API access registration by providing an email address. API generated will be sent to the to the registered email address. This has to be for latter use i.e (395e708b71e8ede98016b9e1ee1dd64f)"
   ]
  },
  {
   "cell_type": "markdown",
   "id": "3d52985a-3572-4828-87d8-830b77e91f86",
   "metadata": {},
   "source": [
    "4.1 \n",
    "\n",
    "TASK 2: SPECIFYING API, IMPORTING THE REQUIRED LIBRARY AND SPECIFYING LOCATION\n",
    "\n",
    "This task entails bringing data from web sources (in this case, current weather data)\n",
    "\n",
    "Below are the steps followed to achieve this:\n",
    "\n",
    "\n",
    "a. SPECIFYING API, IMPORTING THE REQUIRED LIBRARY AND SPECIFYING LOCATION\n",
    "\n",
    "In this task, a modified version of \"Project: Fetching Current Weather Data\" from \"Automate the boring stuff with Python\" by Al Sweigart e-book available at https://ebookcentral.proquest.com/lib/canterburychristchurch/detail.action?docID=4503140 pages 383-387 was used.\n",
    "\n",
    "STEPS:\n",
    "\n",
    "(i) Specifying API: This was done by creating a variable named 'APP_ID' which acts as a container to keep the generated API\n",
    "(ii) Importing the Required Library: The library required for this task is json which comes with 'request' system function. This is the function that is used by the API to pull the weather data for the specified location.\n",
    "(iii) Define your location of choice in a variable named 'Location' with the country name in this case the Location is @Gravsend' and the country is United. This will help the request function to use the API to request for the current weather data of the specified location. "
   ]
  },
  {
   "cell_type": "markdown",
   "id": "10719a24-6b1f-4897-b35b-16d96a79035a",
   "metadata": {},
   "source": [
    "4.2 Task 3: Breaking of code into chunks and explanation\n",
    "\n",
    "import json, requests\n",
    "\n",
    "DEFINING VARIABLES AND CONSTANTS \n",
    "\n",
    "# constant APP_ID definition\n",
    "APP_ID= \"395e708b71e8ede98016b9e1ee1dd64f\"\n",
    "\n",
    "# variable Location definition\n",
    "Location='Gravesend,United Kingdom' \n",
    "\n",
    "# variable url definition\n",
    "url='http://api.openweathermap.org/data/2.5/weather?q='+Location+'&APPID='+APP_ID+'&units=metric' \n",
    "print(url)\n",
    "\n",
    "# Sends a GET request.\n",
    "# :param url: URL for the new Request object.\n",
    "response= requests.get(url) \n",
    "\n",
    "# checks and raises HTTPError if any occured\n",
    "response.raise_for_status()\n",
    "\n",
    "#prints the string value of the response to a stream\n",
    "print(response.text)\n",
    "\n",
    "# Deserialize the string value to a python object and assign to a variable \"weatherData\"\n",
    "weatherData = json.loads(response.text)\n",
    "\n",
    "# extract the value of the key \"weather\" from the variable \"weatherData\" and assign this value to variable \"w\"\n",
    "w=weatherData['weather']\n",
    "\n",
    "# assign the temp_max from the weatherData python object to a vairable \"max_degree_in_celsuis\"\n",
    "max_degree_in_celsuis = weatherData[\"main\"][\"temp_max\"]\n",
    "\n",
    "# Converting to Fahrenheit\n",
    "max_degree_in_fahrenheit = max_degree_in_celsuis * 9/5 + 32\n",
    "\n",
    "# Prints out to the stream or console\n",
    "print('Current weather in %s:' % (weatherData[\"name\"]))\n",
    "print(w[0]['description'])\n",
    "print('The maximum temperature in Centigrade is %s:' % (max_degree_in_celsuis))\n",
    "print('The maximum temperature in Fahrenheit is %s:' %(max_degree_in_fahrenheit))\n",
    "\n",
    "References: \n",
    "# https://openweathermap.org/current (OpenWeatherMap API documentation)\n",
    "# https://www.metric-conversions.org/temperature/celsius-to-fahrenheit.htm (for the conversion from Degree Centigrade to Fahrenheit formula)"
   ]
  },
  {
   "cell_type": "code",
   "execution_count": 10,
   "id": "9357c504-2feb-4a85-9385-41f2736a3219",
   "metadata": {},
   "outputs": [
    {
     "name": "stdout",
     "output_type": "stream",
     "text": [
      "http://api.openweathermap.org/data/2.5/weather?q=Gravesend,United Kingdom&APPID=395e708b71e8ede98016b9e1ee1dd64f&units=metric\n",
      "{\"coord\":{\"lon\":0.3737,\"lat\":51.4414},\"weather\":[{\"id\":501,\"main\":\"Rain\",\"description\":\"moderate rain\",\"icon\":\"10d\"}],\"base\":\"stations\",\"main\":{\"temp\":7.27,\"feels_like\":3.31,\"temp_min\":5.94,\"temp_max\":8.38,\"pressure\":1012,\"humidity\":92,\"sea_level\":1012,\"grnd_level\":1010},\"visibility\":10000,\"wind\":{\"speed\":7.38,\"deg\":194,\"gust\":13.2},\"rain\":{\"1h\":1.15},\"clouds\":{\"all\":100},\"dt\":1673340424,\"sys\":{\"type\":2,\"id\":2009659,\"country\":\"GB\",\"sunrise\":1673337652,\"sunset\":1673367025},\"timezone\":0,\"id\":2648187,\"name\":\"Gravesend\",\"cod\":200}\n",
      "Current weather in Gravesend:\n",
      "moderate rain\n",
      "The maximum temperature in Centigrade is 8.38:\n",
      "The maximum temperature in Fahrenheit is 47.084:\n"
     ]
    }
   ],
   "source": [
    "# 4.2.1 Task 4: Getting Current Weather Data for Gravesend\n",
    "\n",
    "\n",
    "import json, requests\n",
    "\n",
    "# Defining Variables and Constants \n",
    "APP_ID= \"395e708b71e8ede98016b9e1ee1dd64f\" #constant APP_ID definition\n",
    "Location='Gravesend,United Kingdom' #variable Location definition\n",
    "url='http://api.openweathermap.org/data/2.5/weather?q='+Location+'&APPID='+APP_ID+'&units=metric' #variable url definition\n",
    "print(url)\n",
    "\n",
    "# Sends a GET request.\n",
    "# :param url: URL for the new Request object.\n",
    "response= requests.get(url) \n",
    "\n",
    "# chcecks and raises HTTPError if any occured\n",
    "response.raise_for_status()\n",
    "\n",
    "#prints the string value of the response to a stream\n",
    "print(response.text)\n",
    "\n",
    "# Deserialize the string value to a python object and assign to a variable \"weatherData\"\n",
    "weatherData = json.loads(response.text)\n",
    "# extract the value of the key \"weather\" from the variable \"weatherData\" and assign this value to variable \"w\"\n",
    "w=weatherData['weather']\n",
    "\n",
    "# assign the temp_max from the weatherData python object to a vairable \"max_degree_in_celsuis\"\n",
    "max_degree_in_celsuis = weatherData[\"main\"][\"temp_max\"]\n",
    "\n",
    "# Converting to Fahrenheit\n",
    "max_degree_in_fahrenheit = max_degree_in_celsuis * 9/5 + 32\n",
    "\n",
    "# Prints out to the stream or console\n",
    "print('Current weather in %s:' % (weatherData[\"name\"]))\n",
    "print(w[0]['description'])\n",
    "print('The maximum temperature in Centigrade is %s:' % (max_degree_in_celsuis))\n",
    "print('The maximum temperature in Fahrenheit is %s:' %(max_degree_in_fahrenheit))"
   ]
  },
  {
   "cell_type": "code",
   "execution_count": 11,
   "id": "d57e8772-da1c-4223-8a2d-0cc791c486cb",
   "metadata": {},
   "outputs": [
    {
     "name": "stdout",
     "output_type": "stream",
     "text": [
      "http://api.openweathermap.org/data/2.5/weather?q=Gillingham,United Kingdom&APPID=395e708b71e8ede98016b9e1ee1dd64f&units=metric\n",
      "{\"coord\":{\"lon\":0.5486,\"lat\":51.3891},\"weather\":[{\"id\":500,\"main\":\"Rain\",\"description\":\"light rain\",\"icon\":\"10d\"}],\"base\":\"stations\",\"main\":{\"temp\":7.15,\"feels_like\":6.08,\"temp_min\":5.9,\"temp_max\":8.25,\"pressure\":1010,\"humidity\":91},\"visibility\":10000,\"wind\":{\"speed\":1.79,\"deg\":0,\"gust\":4.92},\"rain\":{\"1h\":0.87},\"clouds\":{\"all\":100},\"dt\":1673340427,\"sys\":{\"type\":2,\"id\":2009659,\"country\":\"GB\",\"sunrise\":1673337595,\"sunset\":1673366998},\"timezone\":0,\"id\":2648657,\"name\":\"Gillingham\",\"cod\":200}\n",
      "Current weather in Gillingham:\n",
      "light rain\n",
      "The maximum temperature in Centigrade is 8.25:\n",
      "The maximum temperature in Fahrenheit is 46.85:\n"
     ]
    }
   ],
   "source": [
    "# 4.2.2 Task 5: Getting Current Weather Data for Gillingham\n",
    "\n",
    "import json, requests\n",
    "\n",
    "# Defining Variables and Constants \n",
    "APP_ID= \"395e708b71e8ede98016b9e1ee1dd64f\" #constant APP_ID definition\n",
    "Location='Gillingham,United Kingdom' #variable Location definition\n",
    "url='http://api.openweathermap.org/data/2.5/weather?q='+Location+'&APPID='+APP_ID+'&units=metric' #variable url definition\n",
    "print(url)\n",
    "\n",
    "# Sends a GET request.\n",
    "# :param url: URL for the new Request object.\n",
    "response= requests.get(url) \n",
    "\n",
    "# chcecks and raises HTTPError if any occured\n",
    "response.raise_for_status()\n",
    "\n",
    "#prints the string value of the response to a stream\n",
    "print(response.text)\n",
    "\n",
    "# Deserialize the string value to a python object and assign to a variable \"weatherData\"\n",
    "weatherData = json.loads(response.text)\n",
    "# extract the value of the key \"weather\" from the variable \"weatherData\" and assign this value to variable \"w\"\n",
    "w=weatherData['weather']\n",
    "\n",
    "# assign the temp_max from the weatherData python object to a vairable \"max_degree_in_celsuis\"\n",
    "max_degree_in_celsuis = weatherData[\"main\"][\"temp_max\"]\n",
    "\n",
    "# Converting to Fahrenheit\n",
    "max_degree_in_fahrenheit = max_degree_in_celsuis * 9/5 + 32\n",
    "\n",
    "# Prints out to the stream or console\n",
    "print('Current weather in %s:' % (weatherData[\"name\"]))\n",
    "print(w[0]['description'])\n",
    "print('The maximum temperature in Centigrade is %s:' % (max_degree_in_celsuis))\n",
    "print('The maximum temperature in Fahrenheit is %s:' %(max_degree_in_fahrenheit))"
   ]
  },
  {
   "cell_type": "code",
   "execution_count": 12,
   "id": "b3f3ebfc-d545-47a9-9952-20e04ccb2cdd",
   "metadata": {},
   "outputs": [
    {
     "name": "stdout",
     "output_type": "stream",
     "text": [
      "http://api.openweathermap.org/data/2.5/weather?q=Essex,United Kingdom&APPID=395e708b71e8ede98016b9e1ee1dd64f&units=metric\n",
      "{\"coord\":{\"lon\":-74.2163,\"lat\":40.7834},\"weather\":[{\"id\":802,\"main\":\"Clouds\",\"description\":\"scattered clouds\",\"icon\":\"03n\"}],\"base\":\"stations\",\"main\":{\"temp\":1.49,\"feels_like\":-0.79,\"temp_min\":-1.4,\"temp_max\":4.26,\"pressure\":1015,\"humidity\":70},\"visibility\":10000,\"wind\":{\"speed\":2.06,\"deg\":200},\"clouds\":{\"all\":40},\"dt\":1673340521,\"sys\":{\"type\":2,\"id\":2029393,\"country\":\"US\",\"sunrise\":1673353232,\"sunset\":1673387259},\"timezone\":-18000,\"id\":5097707,\"name\":\"Essex\",\"cod\":200}\n",
      "Current weather in Essex:\n",
      "scattered clouds\n",
      "The maximum temperature in Centigrade is 4.26:\n",
      "The maximum temperature in Fahrenheit is 39.668:\n"
     ]
    }
   ],
   "source": [
    "# 4.2.3 Task 6: Getting Current Weather Data for Essex\n",
    "\n",
    "\n",
    "import json, requests\n",
    "\n",
    "# Defining Variables and Constants \n",
    "APP_ID= \"395e708b71e8ede98016b9e1ee1dd64f\" #constant APP_ID definition\n",
    "Location='Essex,United Kingdom' #variable Location definition\n",
    "url='http://api.openweathermap.org/data/2.5/weather?q='+Location+'&APPID='+APP_ID+'&units=metric' #variable url definition\n",
    "print(url)\n",
    "\n",
    "# Sends a GET request.\n",
    "# :param url: URL for the new Request object.\n",
    "response= requests.get(url) \n",
    "\n",
    "# chcecks and raises HTTPError if any occured\n",
    "response.raise_for_status()\n",
    "\n",
    "#prints the string value of the response to a stream\n",
    "print(response.text)\n",
    "\n",
    "# Deserialize the string value to a python object and assign to a variable \"weatherData\"\n",
    "weatherData = json.loads(response.text)\n",
    "# extract the value of the key \"weather\" from the variable \"weatherData\" and assign this value to variable \"w\"\n",
    "w=weatherData['weather']\n",
    "\n",
    "# assign the temp_max from the weatherData python object to a vairable \"max_degree_in_celsuis\"\n",
    "max_degree_in_celsuis = weatherData[\"main\"][\"temp_max\"]\n",
    "\n",
    "# Converting to Fahrenheit\n",
    "max_degree_in_fahrenheit = max_degree_in_celsuis * 9/5 + 32\n",
    "\n",
    "# Prints out to the stream or console\n",
    "print('Current weather in %s:' % (weatherData[\"name\"]))\n",
    "print(w[0]['description'])\n",
    "print('The maximum temperature in Centigrade is %s:' % (max_degree_in_celsuis))\n",
    "print('The maximum temperature in Fahrenheit is %s:' %(max_degree_in_fahrenheit))"
   ]
  },
  {
   "cell_type": "code",
   "execution_count": 40,
   "id": "9837acea-1702-4eaf-9dc1-7b76bb3e8a82",
   "metadata": {},
   "outputs": [
    {
     "name": "stdout",
     "output_type": "stream",
     "text": [
      "http://api.openweathermap.org/data/2.5/weather?q=Canterbury,United Kingdom&APPID=395e708b71e8ede98016b9e1ee1dd64f&units=metric\n",
      "{\"coord\":{\"lon\":1.0799,\"lat\":51.279},\"weather\":[{\"id\":500,\"main\":\"Rain\",\"description\":\"light rain\",\"icon\":\"10d\"}],\"base\":\"stations\",\"main\":{\"temp\":8.04,\"feels_like\":5.81,\"temp_min\":7.68,\"temp_max\":8.94,\"pressure\":1008,\"humidity\":98},\"visibility\":10000,\"wind\":{\"speed\":3.58,\"deg\":158,\"gust\":9.39},\"rain\":{\"1h\":0.87},\"clouds\":{\"all\":100},\"dt\":1673351064,\"sys\":{\"type\":2,\"id\":2001810,\"country\":\"GB\",\"sunrise\":1673337438,\"sunset\":1673366901},\"timezone\":0,\"id\":2653877,\"name\":\"Canterbury\",\"cod\":200}\n",
      "Current weather in Canterbury:\n",
      "light rain\n",
      "The maximum temperature in Centigrade is 8.94:\n",
      "The maximum temperature in Fahrenheit is 48.092:\n"
     ]
    }
   ],
   "source": [
    "# 4.2.4 Task 7: Getting Current Weather Data for Canterbury\n",
    "\n",
    "import json, requests\n",
    "\n",
    "# Defining Variables and Constants \n",
    "APP_ID= \"395e708b71e8ede98016b9e1ee1dd64f\" #constant APP_ID definition\n",
    "Location='Canterbury,United Kingdom' #variable Location definition\n",
    "url='http://api.openweathermap.org/data/2.5/weather?q='+Location+'&APPID='+APP_ID+'&units=metric' #variable url definition\n",
    "print(url)\n",
    "\n",
    "# Sends a GET request.\n",
    "# :param url: URL for the new Request object.\n",
    "response= requests.get(url) \n",
    "\n",
    "# chcecks and raises HTTPError if any occured\n",
    "response.raise_for_status()\n",
    "\n",
    "#prints the string value of the response to a stream\n",
    "print(response.text)\n",
    "\n",
    "# Deserialize the string value to a python object and assign to a variable \"weatherData\"\n",
    "weatherData = json.loads(response.text)\n",
    "# extract the value of the key \"weather\" from the variable \"weatherData\" and assign this value to variable \"w\"\n",
    "w=weatherData['weather']\n",
    "\n",
    "# assign the temp_max from the weatherData python object to a vairable \"max_degree_in_celsuis\"\n",
    "max_degree_in_celsuis = weatherData[\"main\"][\"temp_max\"]\n",
    "\n",
    "# Converting to Fahrenheit\n",
    "max_degree_in_fahrenheit = max_degree_in_celsuis * 9/5 + 32\n",
    "\n",
    "# Prints out to the stream or console\n",
    "print('Current weather in %s:' % (weatherData[\"name\"]))\n",
    "print(w[0]['description'])\n",
    "print('The maximum temperature in Centigrade is %s:' % (max_degree_in_celsuis))\n",
    "print('The maximum temperature in Fahrenheit is %s:' %(max_degree_in_fahrenheit))"
   ]
  },
  {
   "cell_type": "code",
   "execution_count": 34,
   "id": "2c7ee70b-c003-4b93-ac5e-287d6d33874c",
   "metadata": {},
   "outputs": [
    {
     "name": "stdout",
     "output_type": "stream",
     "text": [
      "http://api.openweathermap.org/data/2.5/weather?q=Stoke,United Kingdom&APPID=395e708b71e8ede98016b9e1ee1dd64f&units=metric\n",
      "{\"coord\":{\"lon\":-2.8667,\"lat\":53.25},\"weather\":[{\"id\":501,\"main\":\"Rain\",\"description\":\"moderate rain\",\"icon\":\"10d\"}],\"base\":\"stations\",\"main\":{\"temp\":6.6,\"feels_like\":1.9,\"temp_min\":5.68,\"temp_max\":8.58,\"pressure\":1001,\"humidity\":92},\"visibility\":8000,\"wind\":{\"speed\":9.26,\"deg\":160,\"gust\":15.95},\"rain\":{\"1h\":1},\"clouds\":{\"all\":75},\"dt\":1673343340,\"sys\":{\"type\":2,\"id\":2004398,\"country\":\"GB\",\"sunrise\":1673338955,\"sunset\":1673367278},\"timezone\":0,\"id\":2636868,\"name\":\"Stoke\",\"cod\":200}\n",
      "Current weather in Stoke:\n",
      "moderate rain\n",
      "The maximum temperature in Centigrade is 8.58:\n",
      "The maximum temperature in Fahrenheit is 47.444:\n"
     ]
    }
   ],
   "source": [
    "# 4.2.5 Task 8: Getting Current Weather Data for Stoke\n",
    "\n",
    "import json, requests\n",
    "\n",
    "# Defining Variables and Constants \n",
    "APP_ID= \"395e708b71e8ede98016b9e1ee1dd64f\" #constant APP_ID definition\n",
    "Location='Stoke,United Kingdom' #variable Location definition\n",
    "url='http://api.openweathermap.org/data/2.5/weather?q='+Location+'&APPID='+APP_ID+'&units=metric' #variable url definition\n",
    "print(url)\n",
    "\n",
    "# Sends a GET request.\n",
    "# :param url: URL for the new Request object.\n",
    "response= requests.get(url) \n",
    "\n",
    "# chcecks and raises HTTPError if any occured\n",
    "response.raise_for_status()\n",
    "\n",
    "#prints the string value of the response to a stream\n",
    "print(response.text)\n",
    "\n",
    "# Deserialize the string value to a python object and assign to a variable \"weatherData\"\n",
    "weatherData = json.loads(response.text)\n",
    "# extract the value of the key \"weather\" from the variable \"weatherData\" and assign this value to variable \"w\"\n",
    "w=weatherData['weather']\n",
    "\n",
    "# assign the temp_max from the weatherData python object to a vairable \"max_degree_in_celsuis\"\n",
    "max_degree_in_celsuis = weatherData[\"main\"][\"temp_max\"]\n",
    "\n",
    "# Converting to Fahrenheit\n",
    "max_degree_in_fahrenheit = max_degree_in_celsuis * 9/5 + 32\n",
    "\n",
    "# Prints out to the stream or console\n",
    "print('Current weather in %s:' % (weatherData[\"name\"]))\n",
    "print(w[0]['description'])\n",
    "print('The maximum temperature in Centigrade is %s:' % (max_degree_in_celsuis))\n",
    "print('The maximum temperature in Fahrenheit is %s:' %(max_degree_in_fahrenheit))"
   ]
  },
  {
   "cell_type": "code",
   "execution_count": 15,
   "id": "779153a2-b9f6-4007-ad69-35e879e27c7e",
   "metadata": {},
   "outputs": [
    {
     "name": "stdout",
     "output_type": "stream",
     "text": [
      "http://api.openweathermap.org/data/2.5/weather?q=London,United Kingdom&APPID=395e708b71e8ede98016b9e1ee1dd64f&units=metric\n",
      "{\"coord\":{\"lon\":-0.1257,\"lat\":51.5085},\"weather\":[{\"id\":500,\"main\":\"Rain\",\"description\":\"light rain\",\"icon\":\"10d\"}],\"base\":\"stations\",\"main\":{\"temp\":7.3,\"feels_like\":4.62,\"temp_min\":5.69,\"temp_max\":8.2,\"pressure\":1010,\"humidity\":92},\"visibility\":7000,\"wind\":{\"speed\":4.12,\"deg\":170},\"rain\":{\"1h\":0.29},\"clouds\":{\"all\":75},\"dt\":1673340405,\"sys\":{\"type\":2,\"id\":2075535,\"country\":\"GB\",\"sunrise\":1673337790,\"sunset\":1673367127},\"timezone\":0,\"id\":2643743,\"name\":\"London\",\"cod\":200}\n",
      "Current weather in London:\n",
      "light rain\n",
      "The maximum temperature in Centigrade is 8.2:\n",
      "The maximum temperature in Fahrenheit is 46.76:\n"
     ]
    }
   ],
   "source": [
    "# 4.2.6 Task 9: Getting Current Weather Data for London\n",
    "\n",
    "import json, requests\n",
    "\n",
    "# Defining Variables and Constants \n",
    "APP_ID= \"395e708b71e8ede98016b9e1ee1dd64f\" #constant APP_ID definition\n",
    "Location='London,United Kingdom' #variable Location definition\n",
    "url='http://api.openweathermap.org/data/2.5/weather?q='+Location+'&APPID='+APP_ID+'&units=metric' #variable url definition\n",
    "print(url)\n",
    "\n",
    "# Sends a GET request.\n",
    "# :param url: URL for the new Request object.\n",
    "response= requests.get(url) \n",
    "\n",
    "# chcecks and raises HTTPError if any occured\n",
    "response.raise_for_status()\n",
    "\n",
    "#prints the string value of the response to a stream\n",
    "print(response.text)\n",
    "\n",
    "# Deserialize the string value to a python object and assign to a variable \"weatherData\"\n",
    "weatherData = json.loads(response.text)\n",
    "# extract the value of the key \"weather\" from the variable \"weatherData\" and assign this value to variable \"w\"\n",
    "w=weatherData['weather']\n",
    "\n",
    "# assign the temp_max from the weatherData python object to a vairable \"max_degree_in_celsuis\"\n",
    "max_degree_in_celsuis = weatherData[\"main\"][\"temp_max\"]\n",
    "\n",
    "# Converting to Fahrenheit\n",
    "max_degree_in_fahrenheit = max_degree_in_celsuis * 9/5 + 32\n",
    "\n",
    "# Prints out to the stream or console\n",
    "print('Current weather in %s:' % (weatherData[\"name\"]))\n",
    "print(w[0]['description'])\n",
    "print('The maximum temperature in Centigrade is %s:' % (max_degree_in_celsuis))\n",
    "print('The maximum temperature in Fahrenheit is %s:' %(max_degree_in_fahrenheit))"
   ]
  },
  {
   "cell_type": "markdown",
   "id": "622e5a39-a804-4aa7-97ae-340058cc8e90",
   "metadata": {},
   "source": [
    "4.3 TASK 2, QUESTION 3: Combining Current Weather API Data with Data from Other API\n",
    "\n",
    "Combining the API with data from others APIs to extend what the software does. You will have to get a new API key for the new APIs you use."
   ]
  },
  {
   "cell_type": "markdown",
   "id": "8f57b893-19e3-4205-bb4b-85265c867797",
   "metadata": {},
   "source": [
    "4.4 TASK 2, QUESTION 4: COMBINING THE WEATHER OUTPUTS FOR 6 DIFFERENT CITIES IN TABULAR AND GRAPHICAL FORM."
   ]
  },
  {
   "cell_type": "markdown",
   "id": "15c33a20-39ba-4425-b765-b1b6fb3ffa35",
   "metadata": {},
   "source": [
    "a. Converting the current weather data: The weather data in the 6 locations were converted in dictionary data storage type give tne ouput below. "
   ]
  },
  {
   "cell_type": "code",
   "execution_count": 16,
   "id": "5f1c0fe5-7df0-45e9-a0a3-2d2139115a32",
   "metadata": {},
   "outputs": [
    {
     "name": "stdout",
     "output_type": "stream",
     "text": [
      "[{'Location': 'Gravesend', 'Current Weather': 'moderate rain', 'Maximum Temperature Degree Centigrade': 8.38, 'Maximum Temperature in Fahrenheit': 47.084}, {'Location': 'Gillingham', 'Current Weather': 'light rain', 'Maximum Temperature Degree Centigrade': 8.25, 'Maximum Temperature in Fahrenheit': 46.85}, {'Location': 'Essex', 'Current Weather': 'scattered clouds', 'Maximum Temperature Degree Centigrade': 4.26, 'Maximum Temperature in Fahrenheit': 39.668}, {'Location': 'Canterbury', 'Current Weather': 'light rain', 'Maximum Temperature Degree Centigrade': 8.91, 'Maximum Temperature in Fahrenheit': 48.038}, {'Location': 'Sittingbourne', 'Current Weather': 'moderate rain', 'Maximum Temperature Degree Centigrade': 9.46, 'Maximum Temperature in Fahrenheit': 49.028}, {'Location': 'London', 'Current Weather': 'light rain', 'Maximum Temperature Degree Centigrade': 8.2, 'Maximum Temperature in Fahrenheit': 46.76}]\n"
     ]
    }
   ],
   "source": [
    "weather_info = [{\"Location\": \"Gravesend\", \"Current Weather\": \"moderate rain\",\n",
    "                \"Maximum Temperature Degree Centigrade\": 8.38, \"Maximum Temperature in Fahrenheit\": 47.084},\n",
    "                {\"Location\": \"Gillingham\", \"Current Weather\": \"light rain\",\n",
    "                \"Maximum Temperature Degree Centigrade\": 8.25, \"Maximum Temperature in Fahrenheit\": 46.85},\n",
    "                {\"Location\": \"Essex\", \"Current Weather\": \"scattered clouds\",\n",
    "                \"Maximum Temperature Degree Centigrade\": 4.26, \"Maximum Temperature in Fahrenheit\": 39.668},\n",
    "                {\"Location\": \"Canterbury\", \"Current Weather\": \"light rain\",\n",
    "                \"Maximum Temperature Degree Centigrade\": 8.91, \"Maximum Temperature in Fahrenheit\": 48.038},\n",
    "                {\"Location\": \"Stoke\", \"Current Weather\": \"moderate rain\",\n",
    "                \"Maximum Temperature Degree Centigrade\": 8.58, \"Maximum Temperature in Fahrenheit\": 47.444},\n",
    "                {\"Location\": \"London\", \"Current Weather\": \"light rain\",\n",
    "                \"Maximum Temperature Degree Centigrade\": 8.2, \"Maximum Temperature in Fahrenheit\": 46.76}]\n",
    "print(weather_info)"
   ]
  },
  {
   "cell_type": "markdown",
   "id": "f9918fca-6b0b-443e-9a34-3415937aad98",
   "metadata": {},
   "source": [
    "4.4.1 Converting the current data into pandas dataframe: The current weather data in the 6 cities were converted into dataframe by first importing the pandas library. This was followed by carrying out some data description about the dataset (metadata) followed by using python basic statistical computation by using the .info() and .describe() resepctively."
   ]
  },
  {
   "cell_type": "code",
   "execution_count": 6,
   "id": "e9d57a38-f214-4b3d-8889-6906fdf37f50",
   "metadata": {},
   "outputs": [
    {
     "name": "stdout",
     "output_type": "stream",
     "text": [
      "     Location   Current Weather  Max. Temperature in Degree Centigrade  \\\n",
      "0   Gravesend     moderate rain                                   8.38   \n",
      "1  Gillingham        light rain                                   8.25   \n",
      "2       Essex  scattered clouds                                   4.26   \n",
      "3  Canterbury        light rain                                   8.91   \n",
      "4       Stoke     moderate rain                                   8.58   \n",
      "5      London        light rain                                   8.20   \n",
      "\n",
      "   Max. Temperature in Fahrenheit  \n",
      "0                          47.084  \n",
      "1                          46.850  \n",
      "2                          39.668  \n",
      "3                          48.038  \n",
      "4                          47.444  \n",
      "5                          46.760  \n"
     ]
    }
   ],
   "source": [
    "import pandas as pd\n",
    "\n",
    "df3 =[{'Location': 'Gravesend', 'Current Weather': 'moderate rain', 'Max. Temperature in Degree Centigrade': 8.38, 'Max. Temperature in Fahrenheit': 47.084}, \n",
    "      {'Location': 'Gillingham', 'Current Weather': 'light rain', 'Max. Temperature in Degree Centigrade': 8.25, 'Max. Temperature in Fahrenheit': 46.85}, \n",
    "      {'Location': 'Essex', 'Current Weather': 'scattered clouds', 'Max. Temperature in Degree Centigrade': 4.26, 'Max. Temperature in Fahrenheit': 39.668}, \n",
    "      {'Location': 'Canterbury', 'Current Weather': 'light rain', 'Max. Temperature in Degree Centigrade': 8.91, 'Max. Temperature in Fahrenheit': 48.038}, \n",
    "      {'Location': 'Stoke', 'Current Weather': 'moderate rain', 'Max. Temperature in Degree Centigrade': 8.58, 'Max. Temperature in Fahrenheit': 47.444}, \n",
    "      {'Location': 'London', 'Current Weather': 'light rain', 'Max. Temperature in Degree Centigrade': 8.2, 'Max. Temperature in Fahrenheit': 46.76}]\n",
    "\n",
    "df3 = pd.DataFrame.from_dict(df3)\n",
    "print(df3)\n",
    "\n",
    "#geeksforgeeks, How to convert Dictionary to Pandas Dataframe?, \n",
    "#Available from: https://www.geeksforgeeks.org/how-to-convert-dictionary-to-pandas-dataframe/, Acessed on: January 2023."
   ]
  },
  {
   "cell_type": "markdown",
   "id": "d7055e1d-c674-4c1f-98fa-3e11c3d4f0e6",
   "metadata": {},
   "source": [
    "4.4.2 Getting the Metadata and some statiscal information about the current weather data dataframe"
   ]
  },
  {
   "cell_type": "code",
   "execution_count": 7,
   "id": "abb4d9ad-798a-4655-b167-381719ce9e4e",
   "metadata": {},
   "outputs": [
    {
     "name": "stdout",
     "output_type": "stream",
     "text": [
      "<class 'pandas.core.frame.DataFrame'>\n",
      "RangeIndex: 6 entries, 0 to 5\n",
      "Data columns (total 4 columns):\n",
      " #   Column                                 Non-Null Count  Dtype  \n",
      "---  ------                                 --------------  -----  \n",
      " 0   Location                               6 non-null      object \n",
      " 1   Current Weather                        6 non-null      object \n",
      " 2   Max. Temperature in Degree Centigrade  6 non-null      float64\n",
      " 3   Max. Temperature in Fahrenheit         6 non-null      float64\n",
      "dtypes: float64(2), object(2)\n",
      "memory usage: 320.0+ bytes\n"
     ]
    },
    {
     "data": {
      "text/html": [
       "<div>\n",
       "<style scoped>\n",
       "    .dataframe tbody tr th:only-of-type {\n",
       "        vertical-align: middle;\n",
       "    }\n",
       "\n",
       "    .dataframe tbody tr th {\n",
       "        vertical-align: top;\n",
       "    }\n",
       "\n",
       "    .dataframe thead th {\n",
       "        text-align: right;\n",
       "    }\n",
       "</style>\n",
       "<table border=\"1\" class=\"dataframe\">\n",
       "  <thead>\n",
       "    <tr style=\"text-align: right;\">\n",
       "      <th></th>\n",
       "      <th>Max. Temperature in Degree Centigrade</th>\n",
       "      <th>Max. Temperature in Fahrenheit</th>\n",
       "    </tr>\n",
       "  </thead>\n",
       "  <tbody>\n",
       "    <tr>\n",
       "      <th>count</th>\n",
       "      <td>6.000000</td>\n",
       "      <td>6.000000</td>\n",
       "    </tr>\n",
       "    <tr>\n",
       "      <th>mean</th>\n",
       "      <td>7.763333</td>\n",
       "      <td>45.974000</td>\n",
       "    </tr>\n",
       "    <tr>\n",
       "      <th>std</th>\n",
       "      <td>1.735680</td>\n",
       "      <td>3.124225</td>\n",
       "    </tr>\n",
       "    <tr>\n",
       "      <th>min</th>\n",
       "      <td>4.260000</td>\n",
       "      <td>39.668000</td>\n",
       "    </tr>\n",
       "    <tr>\n",
       "      <th>25%</th>\n",
       "      <td>8.212500</td>\n",
       "      <td>46.782500</td>\n",
       "    </tr>\n",
       "    <tr>\n",
       "      <th>50%</th>\n",
       "      <td>8.315000</td>\n",
       "      <td>46.967000</td>\n",
       "    </tr>\n",
       "    <tr>\n",
       "      <th>75%</th>\n",
       "      <td>8.530000</td>\n",
       "      <td>47.354000</td>\n",
       "    </tr>\n",
       "    <tr>\n",
       "      <th>max</th>\n",
       "      <td>8.910000</td>\n",
       "      <td>48.038000</td>\n",
       "    </tr>\n",
       "  </tbody>\n",
       "</table>\n",
       "</div>"
      ],
      "text/plain": [
       "       Max. Temperature in Degree Centigrade  Max. Temperature in Fahrenheit\n",
       "count                               6.000000                        6.000000\n",
       "mean                                7.763333                       45.974000\n",
       "std                                 1.735680                        3.124225\n",
       "min                                 4.260000                       39.668000\n",
       "25%                                 8.212500                       46.782500\n",
       "50%                                 8.315000                       46.967000\n",
       "75%                                 8.530000                       47.354000\n",
       "max                                 8.910000                       48.038000"
      ]
     },
     "execution_count": 7,
     "metadata": {},
     "output_type": "execute_result"
    }
   ],
   "source": [
    "df3.info()\n",
    "df3.describe()"
   ]
  },
  {
   "cell_type": "code",
   "execution_count": 8,
   "id": "520533e0-80c5-48e1-bbb0-5d0226aa95b9",
   "metadata": {},
   "outputs": [
    {
     "data": {
      "text/html": [
       "<div>\n",
       "<style scoped>\n",
       "    .dataframe tbody tr th:only-of-type {\n",
       "        vertical-align: middle;\n",
       "    }\n",
       "\n",
       "    .dataframe tbody tr th {\n",
       "        vertical-align: top;\n",
       "    }\n",
       "\n",
       "    .dataframe thead th {\n",
       "        text-align: right;\n",
       "    }\n",
       "</style>\n",
       "<table border=\"1\" class=\"dataframe\">\n",
       "  <thead>\n",
       "    <tr style=\"text-align: right;\">\n",
       "      <th></th>\n",
       "      <th>Max. Temperature in Degree Centigrade</th>\n",
       "      <th>Max. Temperature in Fahrenheit</th>\n",
       "    </tr>\n",
       "  </thead>\n",
       "  <tbody>\n",
       "    <tr>\n",
       "      <th>Max. Temperature in Degree Centigrade</th>\n",
       "      <td>1.0</td>\n",
       "      <td>1.0</td>\n",
       "    </tr>\n",
       "    <tr>\n",
       "      <th>Max. Temperature in Fahrenheit</th>\n",
       "      <td>1.0</td>\n",
       "      <td>1.0</td>\n",
       "    </tr>\n",
       "  </tbody>\n",
       "</table>\n",
       "</div>"
      ],
      "text/plain": [
       "                                       Max. Temperature in Degree Centigrade  \\\n",
       "Max. Temperature in Degree Centigrade                                    1.0   \n",
       "Max. Temperature in Fahrenheit                                           1.0   \n",
       "\n",
       "                                       Max. Temperature in Fahrenheit  \n",
       "Max. Temperature in Degree Centigrade                             1.0  \n",
       "Max. Temperature in Fahrenheit                                    1.0  "
      ]
     },
     "execution_count": 8,
     "metadata": {},
     "output_type": "execute_result"
    }
   ],
   "source": [
    "df3.corr()"
   ]
  },
  {
   "cell_type": "markdown",
   "id": "92aaca44-b346-4e15-a747-1b227279a7f2",
   "metadata": {},
   "source": [
    "4.4.3 Plotting of the current weather data"
   ]
  },
  {
   "cell_type": "code",
   "execution_count": 39,
   "id": "862808e3-6b8a-49ae-a335-d164565c74e8",
   "metadata": {},
   "outputs": [
    {
     "data": {
      "image/png": "[encoded data removed]",
      "text/plain": [
       "<Figure size 432x288 with 1 Axes>"
      ]
     },
     "metadata": {
      "needs_background": "light"
     },
     "output_type": "display_data"
    }
   ],
   "source": [
    "from matplotlib import pyplot as plt\n",
    "weather_location = [\"Gravesend\", \"Gillingham\", \"Essex\", \"Canterbury\", \"Stoke\", \"London\"]\n",
    "weather_maxtempinDegCent = [8.38, 8.25, 4.26, 8.91, 8.58, 8.20]\n",
    "weather_maxtempinFahrenheit = [47.084, 47.850, 39.668, 48.038, 47.444, 46.760]\n",
    "plt.plot(weather_location, weather_maxtempinDegCent, 'g--', label='Max. Temp. in Deg. Cent.')\n",
    "plt.plot(weather_location, weather_maxtempinFahrenheit, 'b.-', label='Max. Temp. in Fahrenheit')\n",
    "plt.xlabel(\"Cities\")\n",
    "plt.ylabel(\"Max. Temperature.\")\n",
    "plt.title(\"Current Weather across 6 Cities\")\n",
    "plt.legend(loc = 'best')\n",
    "plt.grid()\n",
    "plt.show()"
   ]
  },
  {
   "cell_type": "markdown",
   "id": "a8051548-9e86-4e60-9f2c-64ff0f5487f6",
   "metadata": {},
   "source": [
    "5.0 INTORUCTION OF ACTIVITY 9\n",
    "\n",
    "The goals of this activity are to:\n",
    "\n",
    "(1)  To introduce how extra libraries can be loaded inside the jupyter notebook.\n",
    "(2) Get an Idea of sentiment analysis and a worked example"
   ]
  },
  {
   "cell_type": "markdown",
   "id": "d64f3f10-1163-4d61-9ebe-c9e0ed4880c0",
   "metadata": {},
   "source": [
    "5.1 TASKS:\n",
    "\n",
    "5.1.1 Downloading of the file: The file was downloaded from the in-class/activity 9 and saved in the downloaded folder of the computer desktop.\n",
    "\n",
    "5.1.2 Unzipping of the File: It was unzipped/extracted by right clicking on the zipped foler, then selected 'extract to' by specifying the folder where it should be saved for easy access (i.e Data Intelligence Programming Folder).\n",
    "\n",
    "5.1.3 Uploading of the File to Jupyter Notebook: The file was uploaded to Jupyter notebook by expanding the 'file browser menu'. Under the menu, the upload button was selected which opened up a dialogue box that helped to navigate the location of the extracted file. \n",
    "\n",
    "Note: After uploading the file to the jupyter notebook, there was no notable happening with regards to the uploaded file within the jupyter notbook except seeing it being uploaded to the file menu.\n",
    "\n",
    "\n",
    "\n",
    "5.2 WHAT IS VADER: The full meaning for the acronym VADER is (Valence Aware Dictionary for sEntiment Reasoning). It's a model that was introduced 2014 which is used to carry out text sentiment analysis. Pio (2017)\n",
    "\n",
    "5.3 WHAT DOES VADER DO: VADER carries out Text Sentiment Analysis (TSA) by calculating the sentiment score of an input text. TSA is a measure of both the sensitivity of text to both polarity (positive/negative) and intensity (strength) of peoples' feeling. For example, considering a statement by a man about a woman: 'I love her, but I hate her attitude'. From this statement example, there is a sense of feeling that the statement implied i.e the first part of the statement conveyed a positive feeling while the second part sends a negative feeling. VADER uses a human-centric approach for text sentiment analysis, combining qualitative analysis and empirical validation by using human raters and the wisdom of the crowd. Pio (2017)\n",
    "\n",
    "5.4 TECHNIQUES/APPROACHES: VADER uses two approaches to carry out TSA viz: the lexical approach and the machine learning approach.\n",
    "On the one hand, the lexical approach maps words, texts and or statement to sentiments. Sentiments can be either Categorial (Positive, Neutral, Positive) or Numerical (a range of score or intensities). VADER is an example of TSA which uses dictionary of emotions to analyse and group texts into Categoical or numerical values. This approach do not need to train a model using labeled data because everything is available in the dictionary of emotions or sentiment. On the other hand, the Machine Learing (ML) techniques uses trained labelled data to compare between old and new text inputs. The latter have advantage over the former in that the latter achieve greater result of prediction/classification when compared with the result of the former in a large . However, unlike lexical approaches, the ML techniques requires previously labeled data in order to the desired result. Pio (2017).\n",
    "\n",
    "5.5 Explanation of different symbols, operators and Methods: At an appropriate point explain what the following do (with appropriate references if needed):\n",
    "\n",
    "(a) ! is an operator that is used in a Jupyter Notebook or other interactive Python environments to prefix a command that should be run in the command line, rather than in Python while pip is a command-line tool used to install and manage packages written in Python. It stands for \"Pip Installs Packages.\"\n",
    "\n",
    "(b) % is a symbol that is used to represent a command in a Jupyter Notebook. It is known as the \"magic\" operator or magic command and it's provided by the Ipython kernel.\n",
    "\n",
    "(c) iloc: Is an attribute of a Pandas DataFrame that is used to index data in the DataFrame using integer-based location. It stands for \"integer location\". It is used to select rows and columns of a DataFrame based on their integer index position. For example, df.iloc[0] would select the first row of the DataFrame df.\n",
    "\n",
    "(d) the_data.head(): Is a function used to return the number of rows specified from the top of a dataframe. The output also comes with the corresponding columns.\n",
    "\n",
    "(e) the_data['Compound score']=score_compound: It is one of sentiment score returned by the VADER library when running sentiment analysis. It's the normalized compound score which calculates the sum of all lexicon ratings and takes values from -1 to 1. "
   ]
  },
  {
   "cell_type": "code",
   "execution_count": null,
   "id": "180f782a-b9f6-4ccf-b6be-4d704eb5f327",
   "metadata": {},
   "outputs": [],
   "source": [
    "5.6 Exploration of some pandas code on tweet_activity.csv "
   ]
  },
  {
   "cell_type": "markdown",
   "id": "a5303223-ad08-49fc-a70e-ace4f761f231",
   "metadata": {},
   "source": [
    "import pandas as pd\n",
    "df2 = pd.read_csv(\"tweet_activity.csv\")\n",
    "df2.info()\n",
    "df2.describe()"
   ]
  },
  {
   "cell_type": "code",
   "execution_count": 115,
   "id": "6c172fd3-2203-412d-8260-ece15e407115",
   "metadata": {},
   "outputs": [
    {
     "data": {
      "text/plain": [
       "Tweet text    Digging into Big Provenance (with SPADE) https...\n",
       "Name: 0, dtype: object"
      ]
     },
     "execution_count": 115,
     "metadata": {},
     "output_type": "execute_result"
    }
   ],
   "source": [
    "df2.iloc[0]"
   ]
  },
  {
   "cell_type": "code",
   "execution_count": 116,
   "id": "bb377a82-5078-4952-bfd2-88c74c2abaaf",
   "metadata": {},
   "outputs": [
    {
     "data": {
      "text/plain": [
       "Tweet text    Computational Thinking for Professionals https...\n",
       "Name: 2, dtype: object"
      ]
     },
     "execution_count": 116,
     "metadata": {},
     "output_type": "execute_result"
    }
   ],
   "source": [
    "df2.iloc[2]"
   ]
  },
  {
   "cell_type": "code",
   "execution_count": 117,
   "id": "815e5d77-4865-43b0-ad39-46bc9357652c",
   "metadata": {},
   "outputs": [
    {
     "data": {
      "text/html": [
       "<div>\n",
       "<style scoped>\n",
       "    .dataframe tbody tr th:only-of-type {\n",
       "        vertical-align: middle;\n",
       "    }\n",
       "\n",
       "    .dataframe tbody tr th {\n",
       "        vertical-align: top;\n",
       "    }\n",
       "\n",
       "    .dataframe thead th {\n",
       "        text-align: right;\n",
       "    }\n",
       "</style>\n",
       "<table border=\"1\" class=\"dataframe\">\n",
       "  <thead>\n",
       "    <tr style=\"text-align: right;\">\n",
       "      <th></th>\n",
       "      <th>Tweet text</th>\n",
       "    </tr>\n",
       "  </thead>\n",
       "  <tbody>\n",
       "    <tr>\n",
       "      <th>0</th>\n",
       "      <td>Digging into Big Provenance (with SPADE) https...</td>\n",
       "    </tr>\n",
       "    <tr>\n",
       "      <th>1</th>\n",
       "      <td>The Road Ahead for Augmented Reality https://t...</td>\n",
       "    </tr>\n",
       "    <tr>\n",
       "      <th>2</th>\n",
       "      <td>Computational Thinking for Professionals https...</td>\n",
       "    </tr>\n",
       "    <tr>\n",
       "      <th>3</th>\n",
       "      <td>What makes university students steer clear of ...</td>\n",
       "    </tr>\n",
       "    <tr>\n",
       "      <th>4</th>\n",
       "      <td>Caught on camera: Using AI to combat street cr...</td>\n",
       "    </tr>\n",
       "    <tr>\n",
       "      <th>...</th>\n",
       "      <td>...</td>\n",
       "    </tr>\n",
       "    <tr>\n",
       "      <th>218</th>\n",
       "      <td>Researchers develop interface for underwater r...</td>\n",
       "    </tr>\n",
       "    <tr>\n",
       "      <th>219</th>\n",
       "      <td>How do you deradicalise an incel? https://t.co...</td>\n",
       "    </tr>\n",
       "    <tr>\n",
       "      <th>220</th>\n",
       "      <td>How does 'normal' Internet browsing look today...</td>\n",
       "    </tr>\n",
       "    <tr>\n",
       "      <th>221</th>\n",
       "      <td>@cpjobling62 Hi  welcome back to twitter</td>\n",
       "    </tr>\n",
       "    <tr>\n",
       "      <th>222</th>\n",
       "      <td>Saving seaweed with machine learning https://t...</td>\n",
       "    </tr>\n",
       "  </tbody>\n",
       "</table>\n",
       "<p>223 rows × 1 columns</p>\n",
       "</div>"
      ],
      "text/plain": [
       "                                            Tweet text\n",
       "0    Digging into Big Provenance (with SPADE) https...\n",
       "1    The Road Ahead for Augmented Reality https://t...\n",
       "2    Computational Thinking for Professionals https...\n",
       "3    What makes university students steer clear of ...\n",
       "4    Caught on camera: Using AI to combat street cr...\n",
       "..                                                 ...\n",
       "218  Researchers develop interface for underwater r...\n",
       "219  How do you deradicalise an incel? https://t.co...\n",
       "220  How does 'normal' Internet browsing look today...\n",
       "221           @cpjobling62 Hi  welcome back to twitter\n",
       "222  Saving seaweed with machine learning https://t...\n",
       "\n",
       "[223 rows x 1 columns]"
      ]
     },
     "execution_count": 117,
     "metadata": {},
     "output_type": "execute_result"
    }
   ],
   "source": [
    "df2.iloc[:]"
   ]
  },
  {
   "cell_type": "code",
   "execution_count": 118,
   "id": "f32fdc79-37cf-4ddc-97fc-d0eccfeb33c7",
   "metadata": {},
   "outputs": [
    {
     "data": {
      "text/html": [
       "<div>\n",
       "<style scoped>\n",
       "    .dataframe tbody tr th:only-of-type {\n",
       "        vertical-align: middle;\n",
       "    }\n",
       "\n",
       "    .dataframe tbody tr th {\n",
       "        vertical-align: top;\n",
       "    }\n",
       "\n",
       "    .dataframe thead th {\n",
       "        text-align: right;\n",
       "    }\n",
       "</style>\n",
       "<table border=\"1\" class=\"dataframe\">\n",
       "  <thead>\n",
       "    <tr style=\"text-align: right;\">\n",
       "      <th></th>\n",
       "      <th>Tweet text</th>\n",
       "    </tr>\n",
       "  </thead>\n",
       "  <tbody>\n",
       "    <tr>\n",
       "      <th>217</th>\n",
       "      <td>Earned a badge today Thank you @STEMLearningUK...</td>\n",
       "    </tr>\n",
       "    <tr>\n",
       "      <th>218</th>\n",
       "      <td>Researchers develop interface for underwater r...</td>\n",
       "    </tr>\n",
       "    <tr>\n",
       "      <th>219</th>\n",
       "      <td>How do you deradicalise an incel? https://t.co...</td>\n",
       "    </tr>\n",
       "    <tr>\n",
       "      <th>220</th>\n",
       "      <td>How does 'normal' Internet browsing look today...</td>\n",
       "    </tr>\n",
       "    <tr>\n",
       "      <th>221</th>\n",
       "      <td>@cpjobling62 Hi  welcome back to twitter</td>\n",
       "    </tr>\n",
       "    <tr>\n",
       "      <th>222</th>\n",
       "      <td>Saving seaweed with machine learning https://t...</td>\n",
       "    </tr>\n",
       "  </tbody>\n",
       "</table>\n",
       "</div>"
      ],
      "text/plain": [
       "                                            Tweet text\n",
       "217  Earned a badge today Thank you @STEMLearningUK...\n",
       "218  Researchers develop interface for underwater r...\n",
       "219  How do you deradicalise an incel? https://t.co...\n",
       "220  How does 'normal' Internet browsing look today...\n",
       "221           @cpjobling62 Hi  welcome back to twitter\n",
       "222  Saving seaweed with machine learning https://t..."
      ]
     },
     "execution_count": 118,
     "metadata": {},
     "output_type": "execute_result"
    }
   ],
   "source": [
    "df2.iloc[-6:]"
   ]
  },
  {
   "cell_type": "markdown",
   "id": "318ef699-b028-4c20-94aa-0f94cc584463",
   "metadata": {},
   "source": [
    "(d) the_data.head()"
   ]
  },
  {
   "cell_type": "code",
   "execution_count": 121,
   "id": "33568bdb-53c2-4b69-bfc5-e01e91a6df75",
   "metadata": {},
   "outputs": [
    {
     "data": {
      "text/html": [
       "<div>\n",
       "<style scoped>\n",
       "    .dataframe tbody tr th:only-of-type {\n",
       "        vertical-align: middle;\n",
       "    }\n",
       "\n",
       "    .dataframe tbody tr th {\n",
       "        vertical-align: top;\n",
       "    }\n",
       "\n",
       "    .dataframe thead th {\n",
       "        text-align: right;\n",
       "    }\n",
       "</style>\n",
       "<table border=\"1\" class=\"dataframe\">\n",
       "  <thead>\n",
       "    <tr style=\"text-align: right;\">\n",
       "      <th></th>\n",
       "      <th>Tweet text</th>\n",
       "    </tr>\n",
       "  </thead>\n",
       "  <tbody>\n",
       "    <tr>\n",
       "      <th>0</th>\n",
       "      <td>Digging into Big Provenance (with SPADE) https...</td>\n",
       "    </tr>\n",
       "    <tr>\n",
       "      <th>1</th>\n",
       "      <td>The Road Ahead for Augmented Reality https://t...</td>\n",
       "    </tr>\n",
       "    <tr>\n",
       "      <th>2</th>\n",
       "      <td>Computational Thinking for Professionals https...</td>\n",
       "    </tr>\n",
       "    <tr>\n",
       "      <th>3</th>\n",
       "      <td>What makes university students steer clear of ...</td>\n",
       "    </tr>\n",
       "    <tr>\n",
       "      <th>4</th>\n",
       "      <td>Caught on camera: Using AI to combat street cr...</td>\n",
       "    </tr>\n",
       "  </tbody>\n",
       "</table>\n",
       "</div>"
      ],
      "text/plain": [
       "                                          Tweet text\n",
       "0  Digging into Big Provenance (with SPADE) https...\n",
       "1  The Road Ahead for Augmented Reality https://t...\n",
       "2  Computational Thinking for Professionals https...\n",
       "3  What makes university students steer clear of ...\n",
       "4  Caught on camera: Using AI to combat street cr..."
      ]
     },
     "execution_count": 121,
     "metadata": {},
     "output_type": "execute_result"
    }
   ],
   "source": [
    "df2.head()"
   ]
  },
  {
   "cell_type": "code",
   "execution_count": 122,
   "id": "fd42ae8a-542f-4036-ad68-69315f18a5b5",
   "metadata": {},
   "outputs": [
    {
     "data": {
      "text/html": [
       "<div>\n",
       "<style scoped>\n",
       "    .dataframe tbody tr th:only-of-type {\n",
       "        vertical-align: middle;\n",
       "    }\n",
       "\n",
       "    .dataframe tbody tr th {\n",
       "        vertical-align: top;\n",
       "    }\n",
       "\n",
       "    .dataframe thead th {\n",
       "        text-align: right;\n",
       "    }\n",
       "</style>\n",
       "<table border=\"1\" class=\"dataframe\">\n",
       "  <thead>\n",
       "    <tr style=\"text-align: right;\">\n",
       "      <th></th>\n",
       "      <th>Tweet text</th>\n",
       "    </tr>\n",
       "  </thead>\n",
       "  <tbody>\n",
       "    <tr>\n",
       "      <th>0</th>\n",
       "      <td>Digging into Big Provenance (with SPADE) https...</td>\n",
       "    </tr>\n",
       "    <tr>\n",
       "      <th>1</th>\n",
       "      <td>The Road Ahead for Augmented Reality https://t...</td>\n",
       "    </tr>\n",
       "    <tr>\n",
       "      <th>2</th>\n",
       "      <td>Computational Thinking for Professionals https...</td>\n",
       "    </tr>\n",
       "    <tr>\n",
       "      <th>3</th>\n",
       "      <td>What makes university students steer clear of ...</td>\n",
       "    </tr>\n",
       "    <tr>\n",
       "      <th>4</th>\n",
       "      <td>Caught on camera: Using AI to combat street cr...</td>\n",
       "    </tr>\n",
       "  </tbody>\n",
       "</table>\n",
       "</div>"
      ],
      "text/plain": [
       "                                          Tweet text\n",
       "0  Digging into Big Provenance (with SPADE) https...\n",
       "1  The Road Ahead for Augmented Reality https://t...\n",
       "2  Computational Thinking for Professionals https...\n",
       "3  What makes university students steer clear of ...\n",
       "4  Caught on camera: Using AI to combat street cr..."
      ]
     },
     "execution_count": 122,
     "metadata": {},
     "output_type": "execute_result"
    }
   ],
   "source": [
    "df2.head(5)"
   ]
  },
  {
   "cell_type": "markdown",
   "id": "dbe9b83f-8c0f-41f5-be96-4b66f4e57715",
   "metadata": {},
   "source": [
    "References\n",
    "\n",
    "1. Amanda Iglesias Moreno,  2020. 15 things you should know about Dictionaries in Python https://towardsdatascience.com/15-things-you-should-know-about-dictionaries-in-python-44c55e75405c Published in Towards Data Science Accessed on: December 2022.\n",
    "\n",
    "2. Datacamp 2022 (Online) Pandas Tutorial: DataFrames in Python, Available from: https://www.datacamp.com/tutorial/pandas-tutorial-dataframe-python Accessed on: January 2023.\n",
    "\n",
    "3. Geeksforgeeks, How to convert Dictionary to Pandas Dataframe?, Available from: https://www.geeksforgeeks.org/how-to-convert-dictionary-to-pandas-dataframe/, Acessed on: January 2023.\n",
    "\n",
    "4. George, S 2021 (online) 5 Advanced Features of Pandas and How to Use Them, Available from: https://www.kdnuggets.com/2019/10/5-advanced-features-pandas.html Accessed on: January 2023.\n",
    "\n",
    "5. John, D. 2016, (online) what is the 'ro' in plot() mean? READ THE HELP! The important part is here: Available from: https://www.mathworks.com/matlabcentral/answers/282940-what-is-the-ro-in-plot-mean Accessed on: January 2023.\n",
    "\n",
    "6. Melissa, B. 2022 (Online) 12 Python Data Visualization Libraries to Explore for Business Analysis, Available from: https://mode.com/blog/python-data-visualization-libraries/ Accessed on: January 2023.\n",
    "\n",
    "7. Metric Conversions (Online), Available from: https://www.metric-conversions.org/temperature/celsius-to-fahrenheit.htm, Accessed on: January 2023.\n",
    "\n",
    "8. Numpy  2008-2022 (Online) What is NumPy?, Available from: https://numpy.org/doc/stable/user/whatisnumpy.html Accessed on: January 2023.\n",
    "\n",
    "9. OpenWeather (Online) Weather API, Available from: https://openweathermap.org/api/, Accessed on: January 2023\n",
    "\n",
    "10. OpenWeather (Online) Current Weather Data, Available from: https://openweathermap.org/current, Accessed on: January 2023\n",
    "\n",
    "11. Pio C. 2017 (Online) VADER Sentiment Analysis Explained, Available from: https://medium.com/@piocalderon/vader-sentiment-analysis-explained-f1c4f9101cd, Date Accessed: January 2023.\n",
    "\n",
    "12. Priya P. List Operations in Python: Introduction to List Operations in Python, Available from: https://www.educba.com/list-operations-in-python/\n",
    "\n",
    "13. ProgramssBuzz 2021 (Online) Characteristics of Pandas Dataframes, Available from: https://www.programsbuzz.com/article/characteristics-pandas-dataframes Accessed on: January 2023.\n",
    "\n",
    "14. Programmiz Python list(), Available from: https://www.programiz.com/python-programming/methods/built-in/list Accessed on: December 2022.\n",
    "\n",
    "15. Quora 2022 (Online) What are the importance of List in Python, Available from: https://www.quora.com/What-is-the-importance-of-list-in-python, Accessed on: January 2023.\n",
    "\n",
    "16. RealPython (Online) Variables in Python, Available from: Real Python (https://realpython.com/python-variables/), Accessed on: January 2023.\n",
    "\n",
    "17. Scott, T 2022. Principles of Data Intelligence Programming (P18719), Availabel from: Objects and List things. Session 4, pgs 2, 8.\n",
    "\n",
    "18. Stackoverflow, 2020 (online) What are 25%,50%,75% values when we describe a grouped dataframe?, Available from: https://stackoverflow.com/questions/57869926/what-are-25-50-75-values-when-we-describe-a-grouped-dataframe Accessed on: January 2023.\n",
    "\n",
    "19. Stackoverflow 2022 (Online) What is the difference between ! and % in Jupyter notebooks?, AVailable from: https://stackoverflow.com/questions/45784499/what-is-the-difference-between-and-in-jupyter-notebooks, Accessed on January 2023. \n",
    "\n",
    "20. W3 Schools, 2022 (Online) Python Collections (Arrays), Available from: https://www.w3schools.com/python/python_lists.asp#:~:text=There%20are%20four%20collection%20data%20types%20in%20the,which%20is%20ordered%2A%2A%20and%20changeable.%20No%20duplicate%20members, Acessed in: January 2023.\n",
    "\n",
    "22. W3 Schools Matplotlib Labels and Title, Available from: https://www.w3schools.com/python/matplotlib_labels.asp Accessed on: January 2023. \n",
    "\n",
    "23. W3 Schools Matplotlib Markers, Available from: https://www.w3schools.com/python/matplotlib_markers.asp, Accessed on: January 2023.plt.bar\n",
    "\n",
    "24. W3 Schools 2022 Python Lists, Available from: https://www.w3schools.com/python/python_lists.asp Accessed on: January 2023.\n",
    "\n",
    "25. W3 Schools 2022 Python For Loops https://www.w3schools.com/python/python_for_loops.asp\n",
    "\n",
    "26. W3 Schools Seaborn, Available from: https://www.w3schools.com/python/numpy/numpy_random_seaborn.asp, Accessed on: January 2023.\n",
    "\n",
    "27. W3 Schools 2022, Python Set pop() Method Available from: https://www.w3schools.com/python/ref_set_pop.asp, Accessed on: January 2023."
   ]
  }
 ],
 "metadata": {
  "kernelspec": {
   "display_name": "Python 3 (ipykernel)",
   "language": "python",
   "name": "python3"
  },
  "language_info": {
   "codemirror_mode": {
    "name": "ipython",
    "version": 3
   },
   "file_extension": ".py",
   "mimetype": "text/x-python",
   "name": "python",
   "nbconvert_exporter": "python",
   "pygments_lexer": "ipython3",
   "version": "3.10.5"
  }
 },
 "nbformat": 4,
 "nbformat_minor": 5
}
